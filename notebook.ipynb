{
 "cells": [
  {
   "cell_type": "code",
   "execution_count": 61,
   "metadata": {},
   "outputs": [],
   "source": [
    "# Классификация описаний тендерных закупок\n",
    "# Ремезов А.\n",
    "# \n",
    "# Задача многоклассовой классификации;\n",
    "# В коде предложены варианты создания признаков на основе текстовых данных\n",
    "# (CountVectorizer, Tf-Idf, doc2vec) и обучения на них разных классификаторов.\n",
    "\n",
    "# Полагаем, что ошибки на любых объектах равнозначны\n",
    "# (исходя из данных о стоимости ручной разметки и ошибки классификатора);\n",
    "\n",
    "# Соответственно, с помощью модели необходимо достичь точности выше 50% - \n",
    "# в таком случае машинная разметка будет окупать себя по сравнению с ручной.\n",
    "\n",
    "import pandas as pd\n",
    "import numpy as np\n",
    "import datetime\n",
    "import string\n",
    "import re\n",
    "\n",
    "from sklearn.feature_extraction.text import CountVectorizer\n",
    "from sklearn.model_selection import train_test_split\n",
    "from sklearn.feature_extraction.text import TfidfTransformer\n",
    "from sklearn.naive_bayes import MultinomialNB\n",
    "from sklearn.model_selection import StratifiedKFold\n",
    "from sklearn import svm\n",
    "from sklearn.linear_model import LogisticRegression\n",
    "from sklearn import utils\n",
    "\n",
    "from pymystem3 import Mystem\n",
    "\n",
    "import nltk\n",
    "from nltk.corpus import stopwords\n",
    "\n",
    "import gensim\n",
    "from gensim.models import Doc2Vec\n",
    "from gensim.models.doc2vec import TaggedDocument\n",
    "\n",
    "from tqdm import tqdm"
   ]
  },
  {
   "cell_type": "code",
   "execution_count": 2,
   "metadata": {},
   "outputs": [],
   "source": [
    "\n",
    "t_path = 'C:/Users/Artem/Desktop/B2B-Center/'\n",
    "path_train = t_path + 'train.csv'\n",
    "path_test = t_path + 'test.csv'\n",
    "result_path = t_path + 'result.csv'\n",
    "\n",
    "rs = 42"
   ]
  },
  {
   "cell_type": "code",
   "execution_count": 62,
   "metadata": {},
   "outputs": [],
   "source": [
    "nltk.download(\"stopwords\")"
   ]
  },
  {
   "cell_type": "code",
   "execution_count": 4,
   "metadata": {},
   "outputs": [],
   "source": [
    "# Загружаем датафреймы, изучаем данные\n",
    "train_df = pd.read_csv(path_train, sep=',')\n",
    "test_df = pd.read_csv(path_test, sep=',')"
   ]
  },
  {
   "cell_type": "code",
   "execution_count": 6,
   "metadata": {},
   "outputs": [
    {
     "data": {
      "text/html": [
       "<div>\n",
       "<style scoped>\n",
       "    .dataframe tbody tr th:only-of-type {\n",
       "        vertical-align: middle;\n",
       "    }\n",
       "\n",
       "    .dataframe tbody tr th {\n",
       "        vertical-align: top;\n",
       "    }\n",
       "\n",
       "    .dataframe thead th {\n",
       "        text-align: right;\n",
       "    }\n",
       "</style>\n",
       "<table border=\"1\" class=\"dataframe\">\n",
       "  <thead>\n",
       "    <tr style=\"text-align: right;\">\n",
       "      <th></th>\n",
       "      <th>index</th>\n",
       "      <th>proc_name</th>\n",
       "      <th>target</th>\n",
       "    </tr>\n",
       "  </thead>\n",
       "  <tbody>\n",
       "    <tr>\n",
       "      <th>0</th>\n",
       "      <td>0</td>\n",
       "      <td>право заключения договора на поставку насосов ...</td>\n",
       "      <td>40</td>\n",
       "    </tr>\n",
       "    <tr>\n",
       "      <th>1</th>\n",
       "      <td>1</td>\n",
       "      <td>инструмент для трубопрокатных станов хпт и хпт...</td>\n",
       "      <td>31</td>\n",
       "    </tr>\n",
       "    <tr>\n",
       "      <th>2</th>\n",
       "      <td>2</td>\n",
       "      <td>электрооборудование каталог hahsa flex</td>\n",
       "      <td>27</td>\n",
       "    </tr>\n",
       "    <tr>\n",
       "      <th>3</th>\n",
       "      <td>3</td>\n",
       "      <td>оказание услуг по восстановлению работоспособн...</td>\n",
       "      <td>60</td>\n",
       "    </tr>\n",
       "    <tr>\n",
       "      <th>4</th>\n",
       "      <td>4</td>\n",
       "      <td>геодезические комплектующие и аксессуары,согла...</td>\n",
       "      <td>128</td>\n",
       "    </tr>\n",
       "  </tbody>\n",
       "</table>\n",
       "</div>"
      ],
      "text/plain": [
       "   index                                          proc_name  target\n",
       "0      0  право заключения договора на поставку насосов ...      40\n",
       "1      1  инструмент для трубопрокатных станов хпт и хпт...      31\n",
       "2      2             электрооборудование каталог hahsa flex      27\n",
       "3      3  оказание услуг по восстановлению работоспособн...      60\n",
       "4      4  геодезические комплектующие и аксессуары,согла...     128"
      ]
     },
     "execution_count": 6,
     "metadata": {},
     "output_type": "execute_result"
    }
   ],
   "source": [
    "train_df.head(5)"
   ]
  },
  {
   "cell_type": "code",
   "execution_count": 7,
   "metadata": {},
   "outputs": [
    {
     "data": {
      "text/html": [
       "<div>\n",
       "<style scoped>\n",
       "    .dataframe tbody tr th:only-of-type {\n",
       "        vertical-align: middle;\n",
       "    }\n",
       "\n",
       "    .dataframe tbody tr th {\n",
       "        vertical-align: top;\n",
       "    }\n",
       "\n",
       "    .dataframe thead th {\n",
       "        text-align: right;\n",
       "    }\n",
       "</style>\n",
       "<table border=\"1\" class=\"dataframe\">\n",
       "  <thead>\n",
       "    <tr style=\"text-align: right;\">\n",
       "      <th></th>\n",
       "      <th>index</th>\n",
       "      <th>proc_name</th>\n",
       "      <th>target</th>\n",
       "    </tr>\n",
       "  </thead>\n",
       "  <tbody>\n",
       "    <tr>\n",
       "      <th>212085</th>\n",
       "      <td>212085</td>\n",
       "      <td>фрезы отрезные, шпоночные гост 2679-93, гост 5...</td>\n",
       "      <td>31</td>\n",
       "    </tr>\n",
       "    <tr>\n",
       "      <th>212086</th>\n",
       "      <td>212086</td>\n",
       "      <td>техническое обслуживание систем пожаротушения ...</td>\n",
       "      <td>32</td>\n",
       "    </tr>\n",
       "    <tr>\n",
       "      <th>212087</th>\n",
       "      <td>212087</td>\n",
       "      <td>работы по разработке проектно-сметной документ...</td>\n",
       "      <td>18</td>\n",
       "    </tr>\n",
       "    <tr>\n",
       "      <th>212088</th>\n",
       "      <td>212088</td>\n",
       "      <td>приобретение двс мтз- ммз 245 - 1003015б1</td>\n",
       "      <td>21</td>\n",
       "    </tr>\n",
       "    <tr>\n",
       "      <th>212089</th>\n",
       "      <td>212089</td>\n",
       "      <td>поставка провода сип</td>\n",
       "      <td>27</td>\n",
       "    </tr>\n",
       "  </tbody>\n",
       "</table>\n",
       "</div>"
      ],
      "text/plain": [
       "         index                                          proc_name  target\n",
       "212085  212085  фрезы отрезные, шпоночные гост 2679-93, гост 5...      31\n",
       "212086  212086  техническое обслуживание систем пожаротушения ...      32\n",
       "212087  212087  работы по разработке проектно-сметной документ...      18\n",
       "212088  212088          приобретение двс мтз- ммз 245 - 1003015б1      21\n",
       "212089  212089                               поставка провода сип      27"
      ]
     },
     "execution_count": 7,
     "metadata": {},
     "output_type": "execute_result"
    }
   ],
   "source": [
    "train_df.tail(5)"
   ]
  },
  {
   "cell_type": "code",
   "execution_count": 8,
   "metadata": {},
   "outputs": [
    {
     "data": {
      "text/html": [
       "<div>\n",
       "<style scoped>\n",
       "    .dataframe tbody tr th:only-of-type {\n",
       "        vertical-align: middle;\n",
       "    }\n",
       "\n",
       "    .dataframe tbody tr th {\n",
       "        vertical-align: top;\n",
       "    }\n",
       "\n",
       "    .dataframe thead th {\n",
       "        text-align: right;\n",
       "    }\n",
       "</style>\n",
       "<table border=\"1\" class=\"dataframe\">\n",
       "  <thead>\n",
       "    <tr style=\"text-align: right;\">\n",
       "      <th></th>\n",
       "      <th>index</th>\n",
       "      <th>proc_name</th>\n",
       "    </tr>\n",
       "  </thead>\n",
       "  <tbody>\n",
       "    <tr>\n",
       "      <th>0</th>\n",
       "      <td>0</td>\n",
       "      <td>подшипник 2шсл 90\\r\\nподшипник 2007156\\r\\nподш...</td>\n",
       "    </tr>\n",
       "    <tr>\n",
       "      <th>1</th>\n",
       "      <td>1</td>\n",
       "      <td>система лазерной защиты fiessler\\r\\nподробное ...</td>\n",
       "    </tr>\n",
       "    <tr>\n",
       "      <th>2</th>\n",
       "      <td>2</td>\n",
       "      <td>запрос услуги: перевозка металлического сетчат...</td>\n",
       "    </tr>\n",
       "    <tr>\n",
       "      <th>3</th>\n",
       "      <td>3</td>\n",
       "      <td>поставка насосного агрегата grundfos sv 044 (d...</td>\n",
       "    </tr>\n",
       "    <tr>\n",
       "      <th>4</th>\n",
       "      <td>4</td>\n",
       "      <td>определение подрядчика на выполнение смр, пнр ...</td>\n",
       "    </tr>\n",
       "  </tbody>\n",
       "</table>\n",
       "</div>"
      ],
      "text/plain": [
       "   index                                          proc_name\n",
       "0      0  подшипник 2шсл 90\\r\\nподшипник 2007156\\r\\nподш...\n",
       "1      1  система лазерной защиты fiessler\\r\\nподробное ...\n",
       "2      2  запрос услуги: перевозка металлического сетчат...\n",
       "3      3  поставка насосного агрегата grundfos sv 044 (d...\n",
       "4      4  определение подрядчика на выполнение смр, пнр ..."
      ]
     },
     "execution_count": 8,
     "metadata": {},
     "output_type": "execute_result"
    }
   ],
   "source": [
    "test_df.head(5)"
   ]
  },
  {
   "cell_type": "code",
   "execution_count": 9,
   "metadata": {},
   "outputs": [
    {
     "data": {
      "text/plain": [
       "34     20831\n",
       "27     10200\n",
       "31      7675\n",
       "60      7449\n",
       "21      7385\n",
       "17      7377\n",
       "64      7281\n",
       "69      5274\n",
       "61      4711\n",
       "28      4577\n",
       "16      3866\n",
       "39      3808\n",
       "37      3761\n",
       "25      3623\n",
       "73      3295\n",
       "5       3002\n",
       "29      3001\n",
       "40      2978\n",
       "33      2771\n",
       "48      2740\n",
       "24      2650\n",
       "32      2394\n",
       "62      2313\n",
       "26      2241\n",
       "56      2218\n",
       "46      2191\n",
       "72      2068\n",
       "20      1936\n",
       "30      1936\n",
       "68      1908\n",
       "       ...  \n",
       "98       275\n",
       "126      261\n",
       "95       258\n",
       "144      253\n",
       "63       241\n",
       "139      240\n",
       "94       237\n",
       "10       211\n",
       "45       205\n",
       "128      201\n",
       "130      190\n",
       "123      159\n",
       "88       158\n",
       "78       132\n",
       "104      126\n",
       "7        116\n",
       "141      109\n",
       "66       106\n",
       "1        106\n",
       "142      103\n",
       "107      102\n",
       "109       97\n",
       "8         97\n",
       "108       89\n",
       "2         78\n",
       "50        70\n",
       "4         69\n",
       "116       49\n",
       "127       29\n",
       "11        20\n",
       "Name: target, Length: 146, dtype: int64"
      ]
     },
     "execution_count": 9,
     "metadata": {},
     "output_type": "execute_result"
    }
   ],
   "source": [
    "train_df['target'].value_counts()"
   ]
  },
  {
   "cell_type": "code",
   "execution_count": 10,
   "metadata": {},
   "outputs": [
    {
     "name": "stdout",
     "output_type": "stream",
     "text": [
      "na values in index...0\n",
      "na values in proc_name...0\n",
      "na values in target...0\n"
     ]
    }
   ],
   "source": [
    "# Проверка на NA\n",
    "for col in train_df.columns:\n",
    "    s = train_df[col].isnull()==True\n",
    "    print('na values in ' + col + '...' + str(sum(s)))"
   ]
  },
  {
   "cell_type": "code",
   "execution_count": 11,
   "metadata": {},
   "outputs": [],
   "source": [
    "# Очистка текста\n",
    "def clean_text(text):\n",
    "    # Приводим к нижнему регистру\n",
    "    text = text.lower()\n",
    "\n",
    "    # Заменяем переносы строки на пробелы\n",
    "    text = re.sub(\"^\\s+|\\n|\\r|\\s+$\", ' ', text)\n",
    "    \n",
    "    # Удаляем цифры\n",
    "    text = re.sub(r'\\d+', '', text)\n",
    "    \n",
    "    # Заменяем знаки препинания на пробелы (затем удалим их)\n",
    "    text = re.sub(r'[^\\w\\s]', ' ', text)\n",
    "    \n",
    "    # Удаляем лишние пробелы\n",
    "    text = text.strip()\n",
    "    \n",
    "    return text"
   ]
  },
  {
   "cell_type": "code",
   "execution_count": null,
   "metadata": {},
   "outputs": [],
   "source": [
    "train_df['proc_name'] = train_df.apply(lambda x: clean_text(x['proc_name']), axis=1)\n",
    "test_df['proc_name'] = test_df.apply(lambda x: clean_text(x['proc_name']), axis=1)"
   ]
  },
  {
   "cell_type": "code",
   "execution_count": 12,
   "metadata": {},
   "outputs": [],
   "source": [
    "# Функция для лемматизации с использование Pymystem3\n",
    "\n",
    "# Превращаем Series в список, собираем через разделитель,\n",
    "# далее одну большую строку отдаем в лемматизатор,\n",
    "# потом разбираем в столбец датафрейма обратно\n",
    "# (для быстроты - по мотивам https://habr.com/ru/post/503420/ )\n",
    "\n",
    "def lemmatize_column(df, col_name):\n",
    "    print(datetime.datetime.now())\n",
    "\n",
    "    m = Mystem()\n",
    "\n",
    "\n",
    "    a = list(df[col_name])\n",
    "    b = '<<>>'.join(a)\n",
    "    c = m.lemmatize(b)\n",
    "    d = ''.join(c)\n",
    "    d = ' '.join(d.split())\n",
    "    df[col_name + '_lemma'] = d.split('<<>>')\n",
    "\n",
    "    df.drop([col_name], axis=1, inplace=True)\n",
    "\n",
    "    print(datetime.datetime.now())\n",
    "    \n",
    "    return df"
   ]
  },
  {
   "cell_type": "code",
   "execution_count": null,
   "metadata": {},
   "outputs": [],
   "source": [
    "train_df = lemmatize_column(train_df, 'proc_name')\n",
    "test_df = lemmatize_column(test_df, 'proc_name')"
   ]
  },
  {
   "cell_type": "code",
   "execution_count": 14,
   "metadata": {},
   "outputs": [],
   "source": [
    "# Заменяем NA после лемматизации (по одному значению получилось)\n",
    "s = train_df['proc_name_lemma'].isnull()==True\n",
    "train_df.loc[s, 'proc_name_lemma'] = 'unknown'\n",
    "\n",
    "s = test_df['proc_name_lemma'].isnull()==True\n",
    "test_df.loc[s, 'proc_name_lemma'] = 'unknown'"
   ]
  },
  {
   "cell_type": "code",
   "execution_count": 16,
   "metadata": {},
   "outputs": [],
   "source": [
    "russian_stopwords = stopwords.words('russian')"
   ]
  },
  {
   "cell_type": "code",
   "execution_count": 17,
   "metadata": {},
   "outputs": [
    {
     "data": {
      "text/html": [
       "<div>\n",
       "<style scoped>\n",
       "    .dataframe tbody tr th:only-of-type {\n",
       "        vertical-align: middle;\n",
       "    }\n",
       "\n",
       "    .dataframe tbody tr th {\n",
       "        vertical-align: top;\n",
       "    }\n",
       "\n",
       "    .dataframe thead th {\n",
       "        text-align: right;\n",
       "    }\n",
       "</style>\n",
       "<table border=\"1\" class=\"dataframe\">\n",
       "  <thead>\n",
       "    <tr style=\"text-align: right;\">\n",
       "      <th></th>\n",
       "      <th>index</th>\n",
       "      <th>target</th>\n",
       "      <th>proc_name_lemma</th>\n",
       "    </tr>\n",
       "  </thead>\n",
       "  <tbody>\n",
       "    <tr>\n",
       "      <th>212085</th>\n",
       "      <td>212085</td>\n",
       "      <td>31</td>\n",
       "      <td>фреза отрезной шпоночный гост гост сверло ц х ...</td>\n",
       "    </tr>\n",
       "    <tr>\n",
       "      <th>212086</th>\n",
       "      <td>212086</td>\n",
       "      <td>32</td>\n",
       "      <td>технический обслуживание система пожаротушение...</td>\n",
       "    </tr>\n",
       "    <tr>\n",
       "      <th>212087</th>\n",
       "      <td>212087</td>\n",
       "      <td>18</td>\n",
       "      <td>работа по разработка проектный сметный докумен...</td>\n",
       "    </tr>\n",
       "    <tr>\n",
       "      <th>212088</th>\n",
       "      <td>212088</td>\n",
       "      <td>21</td>\n",
       "      <td>приобретение двс мтз ммз б</td>\n",
       "    </tr>\n",
       "    <tr>\n",
       "      <th>212089</th>\n",
       "      <td>212089</td>\n",
       "      <td>27</td>\n",
       "      <td>поставка провод сип</td>\n",
       "    </tr>\n",
       "  </tbody>\n",
       "</table>\n",
       "</div>"
      ],
      "text/plain": [
       "         index  target                                    proc_name_lemma\n",
       "212085  212085      31  фреза отрезной шпоночный гост гост сверло ц х ...\n",
       "212086  212086      32  технический обслуживание система пожаротушение...\n",
       "212087  212087      18  работа по разработка проектный сметный докумен...\n",
       "212088  212088      21                         приобретение двс мтз ммз б\n",
       "212089  212089      27                                поставка провод сип"
      ]
     },
     "execution_count": 17,
     "metadata": {},
     "output_type": "execute_result"
    }
   ],
   "source": [
    "train_df.tail(5)"
   ]
  },
  {
   "cell_type": "code",
   "execution_count": 18,
   "metadata": {},
   "outputs": [],
   "source": [
    "# Стоп-слова из библиотеки Nltk\n",
    "def remove_russian_stopwords(text):\n",
    "    a = text.split(' ')\n",
    "    a = [item for item in a if item not in russian_stopwords]\n",
    "    return ' '.join(a)\n",
    "\n",
    "train_df['proc_name_lemma'] = train_df.apply(lambda x: remove_russian_stopwords(x['proc_name_lemma']), axis=1)\n",
    "test_df['proc_name_lemma'] = test_df.apply(lambda x: remove_russian_stopwords(x['proc_name_lemma']), axis=1)"
   ]
  },
  {
   "cell_type": "code",
   "execution_count": 19,
   "metadata": {},
   "outputs": [
    {
     "data": {
      "text/html": [
       "<div>\n",
       "<style scoped>\n",
       "    .dataframe tbody tr th:only-of-type {\n",
       "        vertical-align: middle;\n",
       "    }\n",
       "\n",
       "    .dataframe tbody tr th {\n",
       "        vertical-align: top;\n",
       "    }\n",
       "\n",
       "    .dataframe thead th {\n",
       "        text-align: right;\n",
       "    }\n",
       "</style>\n",
       "<table border=\"1\" class=\"dataframe\">\n",
       "  <thead>\n",
       "    <tr style=\"text-align: right;\">\n",
       "      <th></th>\n",
       "      <th>index</th>\n",
       "      <th>target</th>\n",
       "      <th>proc_name_lemma</th>\n",
       "    </tr>\n",
       "  </thead>\n",
       "  <tbody>\n",
       "    <tr>\n",
       "      <th>212085</th>\n",
       "      <td>212085</td>\n",
       "      <td>31</td>\n",
       "      <td>фреза отрезной шпоночный гост гост сверло ц х ...</td>\n",
       "    </tr>\n",
       "    <tr>\n",
       "      <th>212086</th>\n",
       "      <td>212086</td>\n",
       "      <td>32</td>\n",
       "      <td>технический обслуживание система пожаротушение...</td>\n",
       "    </tr>\n",
       "    <tr>\n",
       "      <th>212087</th>\n",
       "      <td>212087</td>\n",
       "      <td>18</td>\n",
       "      <td>работа разработка проектный сметный документац...</td>\n",
       "    </tr>\n",
       "    <tr>\n",
       "      <th>212088</th>\n",
       "      <td>212088</td>\n",
       "      <td>21</td>\n",
       "      <td>приобретение двс мтз ммз б</td>\n",
       "    </tr>\n",
       "    <tr>\n",
       "      <th>212089</th>\n",
       "      <td>212089</td>\n",
       "      <td>27</td>\n",
       "      <td>поставка провод сип</td>\n",
       "    </tr>\n",
       "  </tbody>\n",
       "</table>\n",
       "</div>"
      ],
      "text/plain": [
       "         index  target                                    proc_name_lemma\n",
       "212085  212085      31  фреза отрезной шпоночный гост гост сверло ц х ...\n",
       "212086  212086      32  технический обслуживание система пожаротушение...\n",
       "212087  212087      18  работа разработка проектный сметный документац...\n",
       "212088  212088      21                         приобретение двс мтз ммз б\n",
       "212089  212089      27                                поставка провод сип"
      ]
     },
     "execution_count": 19,
     "metadata": {},
     "output_type": "execute_result"
    }
   ],
   "source": [
    "train_df.tail(5)"
   ]
  },
  {
   "cell_type": "code",
   "execution_count": 40,
   "metadata": {},
   "outputs": [],
   "source": [
    "# Первая модель - признаки на CountVectorizer + Tf-Idf,\n",
    "# далее Байесовский классификатор\n",
    "\n",
    "# Перемешиваем датафрейм\n",
    "train_df = train_df.sample(n=len(train_df), random_state=rs)"
   ]
  },
  {
   "cell_type": "code",
   "execution_count": 41,
   "metadata": {},
   "outputs": [],
   "source": [
    "X = train_df['proc_name_lemma']\n",
    "y = train_df['target']"
   ]
  },
  {
   "cell_type": "code",
   "execution_count": 42,
   "metadata": {},
   "outputs": [],
   "source": [
    "# Стратифицированная кросс-валидация\n",
    "skf = StratifiedKFold(n_splits=5)"
   ]
  },
  {
   "cell_type": "code",
   "execution_count": 43,
   "metadata": {},
   "outputs": [
    {
     "name": "stdout",
     "output_type": "stream",
     "text": [
      "(NB) Fold 1, accuracy: ... 0.5689598342515422\n",
      "(NB) Fold 2, accuracy: ... 0.5728288016587343\n",
      "(NB) Fold 3, accuracy: ... 0.5700209791858191\n",
      "(NB) Fold 4, accuracy: ... 0.5710814381428706\n",
      "(NB) Fold 5, accuracy: ... 0.5728819960814862\n"
     ]
    }
   ],
   "source": [
    "cnt = 0\n",
    "\n",
    "for train_index, test_index in skf.split(X, y):\n",
    "    cnt += 1\n",
    "    \n",
    "\n",
    "    \n",
    "    X_train, X_test = X[train_index], X[test_index]\n",
    "    y_train, y_test = y[train_index], y[test_index]\n",
    "    \n",
    "    # Устанавливаем параметр max_df, чтобы не использовать стоп-слова\n",
    "    # и общие термины\n",
    "    count_vect = CountVectorizer(max_df=0.2)\n",
    "    X_train = count_vect.fit_transform(X_train)\n",
    "    X_test = count_vect.transform(X_test)\n",
    "    \n",
    "    tfidf_transformer = TfidfTransformer()\n",
    "    X_train = tfidf_transformer.fit_transform(X_train)\n",
    "    X_test = tfidf_transformer.transform(X_test)\n",
    "    \n",
    "    NB_classifier = MultinomialNB().fit(X_train, y_train)\n",
    "    predicted = NB_classifier.predict(X_test)\n",
    "    print('(NB) Fold ' + str(cnt) + ', accuracy: ... ' + str(np.mean(predicted == y_test)))"
   ]
  },
  {
   "cell_type": "code",
   "execution_count": 45,
   "metadata": {},
   "outputs": [],
   "source": [
    "# Модель: признаки - doc2vec (используем Gensim), далее Логистическая регрессия\n",
    "\n",
    "# Отложенная выборка\n",
    "train, test = train_test_split(train_df, test_size=0.33, random_state=rs)"
   ]
  },
  {
   "cell_type": "code",
   "execution_count": 22,
   "metadata": {},
   "outputs": [],
   "source": [
    "def vec_for_learning(model, tagged_docs):\n",
    "    sents = tagged_docs.values\n",
    "    targets, regressors = zip(*[(doc.tags[0], model.infer_vector(doc.words, steps=20)) for doc in sents])\n",
    "    return targets, regressors\n",
    "\n",
    "# Готовим данные, обучаем doc2vec\n",
    "\n",
    "def get_doc_2_vec_data(train_df, test_df):\n",
    "    \n",
    "    train_tagged = train_df.apply(\n",
    "        lambda x: TaggedDocument(words=x['proc_name_lemma'].split(), tags=[x['target']]), axis=1)\n",
    "    \n",
    "    # Функция используется также на неизвестных данных, в этом случае\n",
    "    # в лейблы записываем 'index'\n",
    "    if 'target' in test_df.columns:\n",
    "        t_col = 'target'\n",
    "    else:\n",
    "        t_col = 'index'\n",
    "    \n",
    "    test_tagged = test_df.apply(\n",
    "        lambda x: TaggedDocument(words=x['proc_name_lemma'].split(), tags=[x[t_col]]), axis=1)\n",
    "    \n",
    "    print(train_tagged.values[0])\n",
    "    \n",
    "    model_dbow = Doc2Vec(dm=0, vector_size=200, negative=5, hs=0, min_count=2, window=15)\n",
    "    model_dbow.random.seed(rs)\n",
    "    model_dbow.build_vocab([x for x in tqdm(train_tagged.values)])\n",
    "    \n",
    "    for epoch in range(30):\n",
    "        model_dbow.train(utils.shuffle([x for x in tqdm(train_tagged.values)]), total_examples=len(train_tagged.values), epochs=1)\n",
    "        model_dbow.alpha -= 0.002\n",
    "        model_dbow.min_alpha = model_dbow.alpha\n",
    "        \n",
    "    y_train, X_train = vec_for_learning(model_dbow, train_tagged)\n",
    "    y_test, X_test = vec_for_learning(model_dbow, test_tagged)\n",
    "    \n",
    "    return y_train, X_train, y_test, X_test"
   ]
  },
  {
   "cell_type": "code",
   "execution_count": 46,
   "metadata": {},
   "outputs": [
    {
     "name": "stdout",
     "output_type": "stream",
     "text": [
      "TaggedDocument(['международный', 'морской', 'доставка', 'груз', 'сборный', 'контейнер', 'проведение', 'маркетинг', 'доставка', 'груз', 'запасной', 'часть', 'печь', 'арендовать', 'сборный', 'контейнер', 'контейнер', 'перевозчик', 'маршрут', 'склад', 'поставщик', 'johannesburg', 'south', 'africa', 'морской', 'порт', 'г', 'владивосток', 'рф', 'склад', 'грузополучатель', 'г', 'амурск', 'рф'], [39])\n"
     ]
    },
    {
     "name": "stderr",
     "output_type": "stream",
     "text": [
      "100%|██████████████████████████████████████████████████████████████████████| 142100/142100 [00:00<00:00, 751268.50it/s]\n",
      "100%|██████████████████████████████████████████████████████████████████████| 142100/142100 [00:00<00:00, 768919.93it/s]\n",
      "100%|██████████████████████████████████████████████████████████████████████| 142100/142100 [00:00<00:00, 733077.82it/s]\n",
      "100%|██████████████████████████████████████████████████████████████████████| 142100/142100 [00:00<00:00, 737841.43it/s]\n",
      "100%|██████████████████████████████████████████████████████████████████████| 142100/142100 [00:00<00:00, 926233.06it/s]\n",
      "100%|██████████████████████████████████████████████████████████████████████| 142100/142100 [00:00<00:00, 728411.83it/s]\n",
      "100%|██████████████████████████████████████████████████████████████████████| 142100/142100 [00:00<00:00, 600692.39it/s]\n",
      "100%|██████████████████████████████████████████████████████████████████████| 142100/142100 [00:00<00:00, 531377.08it/s]\n",
      "100%|██████████████████████████████████████████████████████████████████████| 142100/142100 [00:00<00:00, 786423.35it/s]\n",
      "100%|██████████████████████████████████████████████████████████████████████| 142100/142100 [00:00<00:00, 769625.88it/s]\n",
      "100%|██████████████████████████████████████████████████████████████████████| 142100/142100 [00:00<00:00, 924352.69it/s]\n",
      "100%|██████████████████████████████████████████████████████████████████████| 142100/142100 [00:00<00:00, 711397.07it/s]\n",
      "100%|██████████████████████████████████████████████████████████████████████| 142100/142100 [00:00<00:00, 599013.45it/s]\n",
      "100%|██████████████████████████████████████████████████████████████████████| 142100/142100 [00:00<00:00, 729001.64it/s]\n",
      "100%|██████████████████████████████████████████████████████████████████████| 142100/142100 [00:00<00:00, 783211.45it/s]\n",
      "100%|██████████████████████████████████████████████████████████████████████| 142100/142100 [00:00<00:00, 866415.37it/s]\n",
      "100%|██████████████████████████████████████████████████████████████████████| 142100/142100 [00:00<00:00, 708182.45it/s]\n",
      "100%|██████████████████████████████████████████████████████████████████████| 142100/142100 [00:00<00:00, 840720.92it/s]\n",
      "100%|██████████████████████████████████████████████████████████████████████| 142100/142100 [00:00<00:00, 602304.68it/s]\n",
      "100%|██████████████████████████████████████████████████████████████████████| 142100/142100 [00:00<00:00, 601225.02it/s]\n",
      "100%|██████████████████████████████████████████████████████████████████████| 142100/142100 [00:00<00:00, 628367.11it/s]\n",
      "100%|██████████████████████████████████████████████████████████████████████| 142100/142100 [00:00<00:00, 784317.35it/s]\n",
      "100%|██████████████████████████████████████████████████████████████████████| 142100/142100 [00:00<00:00, 531978.95it/s]\n",
      "100%|██████████████████████████████████████████████████████████████████████| 142100/142100 [00:00<00:00, 573912.67it/s]\n",
      "100%|██████████████████████████████████████████████████████████████████████| 142100/142100 [00:00<00:00, 737234.50it/s]\n",
      "100%|██████████████████████████████████████████████████████████████████████| 142100/142100 [00:00<00:00, 487962.52it/s]\n",
      "100%|██████████████████████████████████████████████████████████████████████| 142100/142100 [00:00<00:00, 813655.24it/s]\n",
      "100%|██████████████████████████████████████████████████████████████████████| 142100/142100 [00:00<00:00, 751274.18it/s]\n",
      "100%|██████████████████████████████████████████████████████████████████████| 142100/142100 [00:00<00:00, 839651.41it/s]\n",
      "100%|██████████████████████████████████████████████████████████████████████| 142100/142100 [00:00<00:00, 785113.92it/s]\n",
      "100%|██████████████████████████████████████████████████████████████████████| 142100/142100 [00:00<00:00, 850577.34it/s]\n"
     ]
    }
   ],
   "source": [
    "y_train, X_train, y_test, X_test = get_doc_2_vec_data(train, test)"
   ]
  },
  {
   "cell_type": "code",
   "execution_count": 52,
   "metadata": {},
   "outputs": [],
   "source": [
    "# Логистическая регрессия на признаках doc2vec\n",
    "\n",
    "multinomial_lr = LogisticRegression(multi_class='multinomial', solver='newton-cg', random_state=rs).fit(X_train, y_train)\n",
    "predictions = multinomial_lr.predict(X_test)"
   ]
  },
  {
   "cell_type": "code",
   "execution_count": 60,
   "metadata": {},
   "outputs": [
    {
     "name": "stdout",
     "output_type": "stream",
     "text": [
      "Accuracy (Logistic Regression) on doc2vec features:\n",
      "0.643820545792256\n"
     ]
    }
   ],
   "source": [
    "print('Accuracy (Logistic Regression) - doc2vec features:')\n",
    "print(str(np.mean(predictions==test['target'])))"
   ]
  },
  {
   "cell_type": "code",
   "execution_count": 48,
   "metadata": {},
   "outputs": [],
   "source": [
    "# Финальная модель на всех данных для обучения \n",
    "# (используем doc2vec + Логистическую регрессию)\n",
    "\n",
    "train_df.sort_values(['index'], inplace=True)"
   ]
  },
  {
   "cell_type": "code",
   "execution_count": 23,
   "metadata": {},
   "outputs": [
    {
     "name": "stderr",
     "output_type": "stream",
     "text": [
      " 38%|███████████████████████████▎                                           | 81412/212090 [00:00<00:00, 456558.13it/s]"
     ]
    },
    {
     "name": "stdout",
     "output_type": "stream",
     "text": [
      "TaggedDocument(['право', 'заключение', 'договор', 'поставка', 'насос', 'консольный', 'лот', 'право', 'заключение', 'договор', 'поставка', 'насос', 'консольный'], [40])\n"
     ]
    },
    {
     "name": "stderr",
     "output_type": "stream",
     "text": [
      "100%|██████████████████████████████████████████████████████████████████████| 212090/212090 [00:00<00:00, 476454.67it/s]\n",
      "100%|██████████████████████████████████████████████████████████████████████| 212090/212090 [00:00<00:00, 713372.61it/s]\n",
      "100%|██████████████████████████████████████████████████████████████████████| 212090/212090 [00:00<00:00, 734045.51it/s]\n",
      "100%|██████████████████████████████████████████████████████████████████████| 212090/212090 [00:00<00:00, 786451.24it/s]\n",
      "100%|██████████████████████████████████████████████████████████████████████| 212090/212090 [00:00<00:00, 782912.24it/s]\n",
      "100%|██████████████████████████████████████████████████████████████████████| 212090/212090 [00:00<00:00, 788474.15it/s]\n",
      "100%|██████████████████████████████████████████████████████████████████████| 212090/212090 [00:00<00:00, 744169.61it/s]\n",
      "100%|██████████████████████████████████████████████████████████████████████| 212090/212090 [00:00<00:00, 782738.64it/s]\n",
      "100%|██████████████████████████████████████████████████████████████████████| 212090/212090 [00:00<00:00, 745235.67it/s]\n",
      "100%|██████████████████████████████████████████████████████████████████████| 212090/212090 [00:00<00:00, 780771.05it/s]\n",
      "100%|██████████████████████████████████████████████████████████████████████| 212090/212090 [00:00<00:00, 761548.98it/s]\n",
      "100%|██████████████████████████████████████████████████████████████████████| 212090/212090 [00:00<00:00, 756129.04it/s]\n",
      "100%|██████████████████████████████████████████████████████████████████████| 212090/212090 [00:00<00:00, 776077.86it/s]\n",
      "100%|██████████████████████████████████████████████████████████████████████| 212090/212090 [00:00<00:00, 746042.54it/s]\n",
      "100%|██████████████████████████████████████████████████████████████████████| 212090/212090 [00:00<00:00, 844927.35it/s]\n",
      "100%|██████████████████████████████████████████████████████████████████████| 212090/212090 [00:00<00:00, 779121.65it/s]\n",
      "100%|██████████████████████████████████████████████████████████████████████| 212090/212090 [00:00<00:00, 788297.37it/s]\n",
      "100%|██████████████████████████████████████████████████████████████████████| 212090/212090 [00:00<00:00, 779052.74it/s]\n",
      "100%|██████████████████████████████████████████████████████████████████████| 212090/212090 [00:00<00:00, 789059.53it/s]\n",
      "100%|██████████████████████████████████████████████████████████████████████| 212090/212090 [00:00<00:00, 783981.71it/s]\n",
      "100%|██████████████████████████████████████████████████████████████████████| 212090/212090 [00:00<00:00, 780773.79it/s]\n",
      "100%|██████████████████████████████████████████████████████████████████████| 212090/212090 [00:00<00:00, 794745.65it/s]\n",
      "100%|██████████████████████████████████████████████████████████████████████| 212090/212090 [00:00<00:00, 798672.25it/s]\n",
      "100%|██████████████████████████████████████████████████████████████████████| 212090/212090 [00:00<00:00, 742767.20it/s]\n",
      "100%|██████████████████████████████████████████████████████████████████████| 212090/212090 [00:00<00:00, 782717.97it/s]\n",
      "100%|██████████████████████████████████████████████████████████████████████| 212090/212090 [00:00<00:00, 701302.48it/s]\n",
      "100%|██████████████████████████████████████████████████████████████████████| 212090/212090 [00:00<00:00, 780629.91it/s]\n",
      "100%|██████████████████████████████████████████████████████████████████████| 212090/212090 [00:00<00:00, 817633.70it/s]\n",
      "100%|██████████████████████████████████████████████████████████████████████| 212090/212090 [00:00<00:00, 770131.08it/s]\n",
      "100%|██████████████████████████████████████████████████████████████████████| 212090/212090 [00:00<00:00, 661005.48it/s]\n",
      "100%|██████████████████████████████████████████████████████████████████████| 212090/212090 [00:00<00:00, 671731.96it/s]\n"
     ]
    }
   ],
   "source": [
    "y_train, X_train, y_test, X_test = get_doc_2_vec_data(train_df, test_df)"
   ]
  },
  {
   "cell_type": "code",
   "execution_count": 34,
   "metadata": {},
   "outputs": [],
   "source": [
    "multinomial_lr = LogisticRegression(multi_class='multinomial', solver='newton-cg', random_state=rs).fit(X_train, y_train)\n",
    "predictions = multinomial_lr.predict(X_test)"
   ]
  },
  {
   "cell_type": "code",
   "execution_count": 38,
   "metadata": {},
   "outputs": [],
   "source": [
    "# Сохраняем датафрейм в необходимом формате (файл 'result.csv')\n",
    "\n",
    "test_df['target'] = predictions\n",
    "\n",
    "test_df.drop(['proc_name_lemma'], axis=1, inplace=True)\n",
    "\n",
    "test_df.to_csv(result_path, sep=',', index=False)"
   ]
  }
 ],
 "metadata": {
  "kernelspec": {
   "display_name": "Python 3",
   "language": "python",
   "name": "python3"
  },
  "language_info": {
   "codemirror_mode": {
    "name": "ipython",
    "version": 3
   },
   "file_extension": ".py",
   "mimetype": "text/x-python",
   "name": "python",
   "nbconvert_exporter": "python",
   "pygments_lexer": "ipython3",
   "version": "3.6.7"
  }
 },
 "nbformat": 4,
 "nbformat_minor": 2
}
