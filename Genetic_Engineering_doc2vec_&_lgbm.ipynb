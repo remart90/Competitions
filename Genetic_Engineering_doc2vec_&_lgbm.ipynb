{
  "nbformat": 4,
  "nbformat_minor": 0,
  "metadata": {
    "colab": {
      "name": "Genetic Engineering - doc2vec & lgbm.ipynb",
      "provenance": [],
      "collapsed_sections": [],
      "authorship_tag": "ABX9TyNJu1JjrzjMWv1QZJYP1qLx"
    },
    "kernelspec": {
      "name": "python3",
      "display_name": "Python 3"
    }
  },
  "cells": [
    {
      "cell_type": "code",
      "metadata": {
        "id": "0kATz6ehuQAQ"
      },
      "source": [
        "# One of my solutions for 'Genetic Engineering Attribution Challenge';\n",
        "# 0.6529 Top-10 Accuracy at the public leaderboard;\n",
        "\n",
        "\n",
        "import pandas as pd\n",
        "import numpy as np\n",
        "from sklearn.preprocessing import LabelEncoder\n",
        "import lightgbm as lgb\n",
        "import datetime\n",
        "from sklearn.model_selection import train_test_split\n",
        "import gensim\n",
        "from gensim.models import Doc2Vec\n",
        "from gensim.models.doc2vec import TaggedDocument\n",
        "\n",
        "from tqdm import tqdm\n",
        "from sklearn import utils\n"
      ],
      "execution_count": null,
      "outputs": []
    },
    {
      "cell_type": "code",
      "metadata": {
        "id": "CKk0r6BfyON_"
      },
      "source": [
        "rs = 42\n",
        "pth = '.../GE/'\n",
        "np.random.seed(rs)"
      ],
      "execution_count": null,
      "outputs": []
    },
    {
      "cell_type": "code",
      "metadata": {
        "id": "Dd5N8NvbtqQx"
      },
      "source": [
        "# Add 3 symbols from the beginning to the end to loop the cycle\n",
        "\n",
        "def n_grams_with_space(input_list, n):\n",
        "  out_list = []\n",
        "\n",
        "  for item in input_list:\n",
        "    item += item[0:3]\n",
        "    grams = [item[i:i+n] for i in range(0, len(item)-n+1, n)]\n",
        "    res = ' '.join(grams)\n",
        "    out_list.append(res)\n",
        "\n",
        "  return out_list\n"
      ],
      "execution_count": null,
      "outputs": []
    },
    {
      "cell_type": "code",
      "metadata": {
        "id": "OUw4apliuOcg"
      },
      "source": [
        "train_values = pd.read_csv(pth+'train_values.csv')\n",
        "test_values = pd.read_csv(pth+'test_values.csv')"
      ],
      "execution_count": null,
      "outputs": []
    },
    {
      "cell_type": "code",
      "metadata": {
        "id": "Adk8Bnzj8gms"
      },
      "source": [
        "train_values['sample']=1\n",
        "test_values['sample']=2"
      ],
      "execution_count": null,
      "outputs": []
    },
    {
      "cell_type": "code",
      "metadata": {
        "id": "g3oc-2ux857c"
      },
      "source": [
        "values = pd.concat([train_values, test_values], ignore_index=True)"
      ],
      "execution_count": null,
      "outputs": []
    },
    {
      "cell_type": "code",
      "metadata": {
        "id": "QqSHnS9m_2M-"
      },
      "source": [
        "def percent_of_element_in_sequence(input_seq, elem):\n",
        "  x = input_seq.count(elem)\n",
        "  y = len(input_seq)\n",
        "  return x / y\n",
        "\n",
        "percent_of_element_in_sequence_v = np.vectorize(percent_of_element_in_sequence)"
      ],
      "execution_count": null,
      "outputs": []
    },
    {
      "cell_type": "code",
      "metadata": {
        "id": "K_-YGL-vBfUr"
      },
      "source": [
        "elem_list = ['A', 'C', 'G', 'T', 'N']\n",
        "\n",
        "for item in elem_list:\n",
        "  values['count_{}'.format(item)] = percent_of_element_in_sequence_v(values['sequence'], item)"
      ],
      "execution_count": null,
      "outputs": []
    },
    {
      "cell_type": "code",
      "metadata": {
        "id": "9HT0o8pgBqun"
      },
      "source": [
        "values['seq_len'] = values['sequence'].str.len()"
      ],
      "execution_count": null,
      "outputs": []
    },
    {
      "cell_type": "code",
      "metadata": {
        "id": "EeePQ__6DHCx"
      },
      "source": [
        "e = list(values['sequence'])\n",
        "\n",
        "r = n_grams_with_space(e, 3)\n",
        "\n",
        "values['sequence_by_3'] = r"
      ],
      "execution_count": null,
      "outputs": []
    },
    {
      "cell_type": "code",
      "metadata": {
        "id": "2VoH-NcjwlbI"
      },
      "source": [
        "s = values['sample']==1\n",
        "train = values.loc[s, :]\n",
        "train.reset_index(inplace=True, drop=True)\n",
        "\n",
        "\n",
        "s = values['sample']==2\n",
        "test = values.loc[s, :]\n",
        "test.reset_index(inplace=True, drop=True)\n"
      ],
      "execution_count": null,
      "outputs": []
    },
    {
      "cell_type": "code",
      "metadata": {
        "id": "q5CDfvOVyTcz"
      },
      "source": [
        "def vec_for_learning(model, tagged_docs):\n",
        "  sents = tagged_docs.values\n",
        "  targets, regressors = zip(*[(doc.tags[0], model.infer_vector(doc.words, steps=20)) for doc in sents])\n",
        "  return targets, regressors\n",
        "\n",
        "\n",
        "\n",
        "def get_doc_2_vec_data(train_df, test_df, t_col, processed_field):\n",
        "    \n",
        "  train_tagged = train_df.apply(lambda x: TaggedDocument(words=x[processed_field].split(), tags=[x[t_col]]), axis=1)\n",
        "  test_tagged = test_df.apply(lambda x: TaggedDocument(words=x[processed_field].split(), tags=[x[t_col]]), axis=1)\n",
        "    \n",
        "  print(train_tagged.values[0])\n",
        "    \n",
        "  model_dbow = Doc2Vec(dm=0, vector_size=250, negative=5, hs=0, min_count=2, window=15)\n",
        "  model_dbow.random.seed(rs)\n",
        "  model_dbow.build_vocab([x for x in tqdm(train_tagged.values)])\n",
        "    \n",
        "  for epoch in range(30):\n",
        "    model_dbow.train(utils.shuffle([x for x in tqdm(train_tagged.values)]), total_examples=len(train_tagged.values), epochs=1)\n",
        "    model_dbow.alpha -= 0.002\n",
        "    model_dbow.min_alpha = model_dbow.alpha\n",
        "        \n",
        "  y_train, X_train = vec_for_learning(model_dbow, train_tagged)\n",
        "  y_test, X_test = vec_for_learning(model_dbow, test_tagged)\n",
        "\n",
        "  return y_train, X_train, y_test, X_test"
      ],
      "execution_count": null,
      "outputs": []
    },
    {
      "cell_type": "code",
      "metadata": {
        "id": "WJtSvkf1yVwN",
        "outputId": "89b5e3ae-58e8-4ea1-efa0-0ace0f512f45",
        "colab": {
          "base_uri": "https://localhost:8080/",
          "height": 619
        }
      },
      "source": [
        "y_train, X_train, y_test, X_test = get_doc_2_vec_data(train, test, 'sequence_id', 'sequence_by_3')"
      ],
      "execution_count": null,
      "outputs": [
        {
          "output_type": "stream",
          "text": [
            "100%|██████████| 63017/63017 [00:00<00:00, 2585266.29it/s]"
          ],
          "name": "stderr"
        },
        {
          "output_type": "stream",
          "text": [
            "TaggedDocument(['CAT', 'GCA', 'TTA', 'GTT', 'ATT', 'AAT', 'AGT', 'AAT', 'CAA', 'TTA', 'CGG', 'GGT', 'CAT', 'TAG', 'TTC', 'ATA', 'GCC', 'CAT', 'ATA', 'TGG', 'AGT', 'TCC', 'GCG', 'TTA', 'CAT', 'AAC', 'TTA', 'CGG', 'TAA', 'ATG', 'GCC', 'CGC', 'CTG', 'GCT', 'GAC', 'CGC', 'CCA', 'ACG', 'ACC', 'CCC', 'GCC', 'CAT', 'TGA', 'CGT', 'CAA', 'TAA', 'TGA', 'CGT', 'ATG', 'TTC', 'CCA', 'TAG', 'TAA', 'CGC', 'CAA', 'TAG', 'GGA', 'CTT', 'TCC', 'ATT', 'GAC', 'GTC', 'AAT', 'GGG', 'TGG', 'AGT', 'ATT', 'TAC', 'GGT', 'AAA', 'CTG', 'CCC', 'ACT', 'TGG', 'CAG', 'TAC', 'ATC', 'AAG', 'TGT', 'ATC', 'ATA', 'TGC', 'CAA', 'GTA', 'CGC', 'CCC', 'CTA', 'TTG', 'ACG', 'TCA', 'ATG', 'ACG', 'GTA', 'AAT', 'GGC', 'CCG', 'CCT', 'GGC', 'ATT', 'ATG', 'CCC', 'AGT', 'ACA', 'TGA', 'CCT', 'TAT', 'GGG', 'ACT', 'TTC', 'CTA', 'CTT', 'GGC', 'AGT', 'ACA', 'TCT', 'ACG', 'TAT', 'TAG', 'TCA', 'TCG', 'CTA', 'TTA', 'CCA', 'TGG', 'TGA', 'TGC', 'GGT', 'TTT', 'GGC', 'AGT', 'ACA', 'TCA', 'ATG', 'GGC', 'GTG', 'GAT', 'AGC', 'GGT', 'TTG', 'ACT', 'CAC', 'GGG', 'GAT', 'TTC', 'CAA', 'GTC', 'TCC', 'ACC', 'CCA', 'TTG', 'ACG', 'TCA', 'ATG', 'GGA', 'GTT', 'TGT', 'TTT', 'GGC', 'ACC', 'AAA', 'ATC', 'AAC', 'GGG', 'ACT', 'TTC', 'CAA', 'AAT', 'GTC', 'GTA', 'ACA', 'ACT', 'CCG', 'CCC', 'CAT', 'TGA', 'CGC', 'AAA', 'TGG', 'GCG', 'GTA', 'GGC', 'GTG', 'TAC', 'GGT', 'GGG', 'AGG', 'TCT', 'ATA', 'TAA', 'GCA', 'GAG', 'CTG', 'GTT', 'TAG', 'TGA', 'ACC', 'GTC', 'AGA', 'TCC', 'GCT', 'AGC', 'GCT', 'ACC', 'GGT', 'CGC', 'CAC', 'CAT', 'GGT', 'GAG', 'CAA', 'GGG', 'CGA', 'GGA', 'GCT', 'GTT', 'CAC', 'CGG', 'GGT', 'GGT', 'GCC', 'CAT', 'CCT', 'GGT', 'CGA', 'GCT', 'GGA', 'CGG', 'CGA', 'CGT', 'AAA', 'CGG', 'CCA', 'CAA', 'GTT', 'CAG', 'CGT', 'GTC', 'CGG', 'CGA', 'GGG', 'CGA', 'GGG', 'CGA', 'TGC', 'CAC', 'CTA', 'CGG', 'CAA', 'GCT', 'GAC', 'CCT', 'GAA', 'GTT', 'CAT', 'CTG', 'CAC', 'CAC', 'CGG', 'CAA', 'GCT', 'GCC', 'CGT', 'GCC', 'CTG', 'GCC', 'CAC', 'CCT', 'CGT', 'GAC', 'CAC', 'CCT', 'GAC', 'CTA', 'CGG', 'CGT', 'GCA', 'GTG', 'CTT', 'CAG', 'CCG', 'CTA', 'CCC', 'CGA', 'CCA', 'CAT', 'GAA', 'GCA', 'GCA', 'CGA', 'CTT', 'CTT', 'CAA', 'GTC', 'CGC', 'CAT', 'GCC', 'CGA', 'AGG', 'CTA', 'CGT', 'CCA', 'GGA', 'GCG', 'CAC', 'CAT', 'CTT', 'CTT', 'CAA', 'GGA', 'CGA', 'CGG', 'CAA', 'CTA', 'CAA', 'GAC', 'CCG', 'CGC', 'CGA', 'GGT', 'GAA', 'GTT', 'CGA', 'GGG', 'CGA', 'CAC', 'CCT', 'GGT', 'GAA', 'CCG', 'CAT', 'CGA', 'GCT', 'GAA', 'GGG', 'CAT', 'CGA', 'CTT', 'CAA', 'GGA', 'GGA', 'CGG', 'CAA', 'CAT', 'CCT', 'GGG', 'GCA', 'CAA', 'GCT', 'GGA', 'GTA', 'CAA', 'CTA', 'CAA', 'CAG', 'CCA', 'CAA', 'CGT', 'CTA', 'TAT', 'CAT', 'GGC', 'CGA', 'CAA', 'GCA', 'GAA', 'GAA', 'CGG', 'CAT', 'CAA', 'GGT', 'GAA', 'CTT', 'CAA', 'GAT', 'CCG', 'CCA', 'CAA', 'CAT', 'CGA', 'GGA', 'CGG', 'CAG', 'CGT', 'GCA', 'GCT', 'CGC', 'CGA', 'CCA', 'CTA', 'CCA', 'GCA', 'GAA', 'CAC', 'CCC', 'CAT', 'CGG', 'CGA', 'CGG', 'CCC', 'CGT', 'GCT', 'GCT', 'GCC', 'CGA', 'CAA', 'CCA', 'CTA', 'CCT', 'GAG', 'CAC', 'CCA', 'GTC', 'CGC', 'CCT', 'GAG', 'CAA', 'AGA', 'CCC', 'CAA', 'CGA', 'GAA', 'GCG', 'CGA', 'TCA', 'CAT', 'GGT', 'CCT', 'GCT', 'GGA', 'GTT', 'CGT', 'GAC', 'CGC', 'CGC', 'CGG', 'GAT', 'CAC', 'TCT', 'CGG', 'CAT', 'GGA', 'CGA', 'GCT', 'GTA', 'CAA', 'GTC', 'CGG', 'ACT', 'CAG', 'ATC', 'TCG', 'AGC', 'TCA', 'AGC', 'TTC', 'GAA', 'TTC', 'TGC', 'AGT', 'CGA', 'CTC', 'ATT', 'CGG', 'GAG', 'CTG', 'GAT', 'GGC', 'TTG', 'GGA', 'CAT', 'GTG', 'CAG', 'CCA', 'AGA', 'CTC', 'TGT', 'ATG', 'GAG', 'TGA', 'CAT', 'AGA', 'GTG', 'TGC', 'TGC', 'TCT', 'GGT', 'TGG', 'TGA', 'GGA', 'CCA', 'GCC', 'TCT', 'TTG', 'CCC', 'AGA', 'TCT', 'TCC', 'TGA', 'ACT', 'TGA', 'CCT', 'TTC', 'TGA', 'ACT', 'TGA', 'TGT', 'GAA', 'TGA', 'CTT', 'GGA', 'TAC', 'AGA', 'CAG', 'CTT', 'TCT', 'GGG', 'TGG', 'ATT', 'GAA', 'GTG', 'GTG', 'TAG', 'CGA', 'CCA', 'ATC', 'GGA', 'AAT', 'CAT', 'ATC', 'CAA', 'CCA', 'GTA', 'CAA', 'CAA', 'TGA', 'GCC', 'TGC', 'GAA', 'CAT', 'ATT', 'TGA', 'GAA', 'GAT', 'AGA', 'TGA', 'AGA', 'GAA', 'TGA', 'GGC', 'AAA', 'CTT', 'GCT', 'AGC', 'GGT', 'CCT', 'CAC', 'AGA', 'GAC', 'ACT', 'GGA', 'CAG', 'TCT', 'CCC', 'CGT', 'GGA', 'TGA', 'AGA', 'CGG', 'ATT', 'GCC', 'CTC', 'ATT', 'TGA', 'TGC', 'ACT', 'GAC', 'AGA', 'TGG', 'AGC', 'CGT', 'GAC', 'CAC', 'TGA', 'CAA', 'CGA', 'GGC', 'CAG', 'TCC', 'TTC', 'CTC', 'CAT', 'GCC', 'TGA', 'CGG', 'CAC', 'CCC', 'TCC', 'CCC', 'TCA', 'GGA', 'GGC', 'AGA', 'AGA', 'GCC', 'GTC', 'TCT', 'ACT', 'TAA', 'GAA', 'GCT', 'CTT', 'ACT', 'GGC', 'ACC', 'AGC', 'CAA', 'CAC', 'TCA', 'GCT', 'CAG', 'CTA', 'CAA', 'TGA', 'ATG', 'CAG', 'CGG', 'TCT', 'TAG', 'CAC', 'TCA', 'GAA', 'CCA', 'TGC', 'AGC', 'AAA', 'CCA', 'CAC', 'CCA', 'CAG', 'GAT', 'CAG', 'AAC', 'AAA', 'CCC', 'TGC', 'CAT', 'TGT', 'TAA', 'GAC', 'CGA', 'GAA', 'TTC', 'ATG', 'GAG', 'CAA', 'TAA', 'AGC', 'GAA', 'GAG', 'CAT', 'TTG', 'TCA', 'ACA', 'GCA', 'AAA', 'GCC', 'ACA', 'AAG', 'ACG', 'TCC', 'CTG', 'CTC', 'AGA', 'GCT', 'TCT', 'CAA', 'GTA', 'TCT', 'GAC', 'CAC', 'AAA', 'CGA', 'TGA', 'CCC', 'TCC', 'TCA', 'CAC', 'CAA', 'ACC', 'CAC', 'AGA', 'AAA', 'CAG', 'GAA', 'CAG', 'CAG', 'CAG', 'AGA', 'CAA', 'ATG', 'TGC', 'TTC', 'CAA', 'AAA', 'GAA', 'GTC', 'CCA', 'TAC', 'ACA', 'ACC', 'GCA', 'GTC', 'GCA', 'ACA', 'TGC', 'TCA', 'AGC', 'CAA', 'ACC', 'AAC', 'AAC', 'TTT', 'ATC', 'TCT', 'TCC', 'TCT', 'GAC', 'CCC', 'AGA', 'GTC', 'ACC', 'AAA', 'TGA', 'CCC', 'CAA', 'GGG', 'TTC', 'CCC', 'ATT', 'TGA', 'GAA', 'CAA', 'GAC', 'TAT', 'TGA', 'GCG', 'AAC', 'CTT', 'AAG', 'TGT', 'GGA', 'ACT', 'CTC', 'TGG', 'AAC', 'TGC', 'AGG', 'CCT', 'AAC', 'TCC', 'TCC', 'CAC', 'AAC', 'TCC', 'TCC', 'TCA', 'TAA', 'AGC', 'CAA', 'CCA', 'AGA', 'TAA', 'CCC', 'TTT', 'CAA', 'GGC', 'TTC', 'GCC', 'AAA', 'GCT', 'GAA', 'GCC', 'CTC', 'TTG', 'CAA', 'GAC', 'CGT', 'GGT', 'GCC', 'ACC', 'GCC', 'AAC', 'CAA', 'GAG', 'GGC', 'CCG', 'GTA', 'CAG', 'TGA', 'GTG', 'TTC', 'TGG', 'TAC', 'CCA', 'AGG', 'CAG', 'CCA', 'CTC', 'CAC', 'CAA', 'GAA', 'AGG', 'GCC', 'CGA', 'GCA', 'ATC', 'TGA', 'GTT', 'GTA', 'CGC', 'ACA', 'ACT', 'CAG', 'CAA', 'GTC', 'CTC', 'AGG', 'GCT', 'CAG', 'CCG', 'AGG', 'ACA', 'CGA', 'GGA', 'AAG', 'GAA', 'GAC', 'TAA', 'ACG', 'GCC', 'CAG', 'TCT', 'CCG', 'GCT', 'GTT', 'TGG', 'TGA', 'CCA', 'TGA', 'CTA', 'CTG', 'TCA', 'GTC', 'ACT', 'CAA', 'TTC', 'CAA', 'AAC', 'GGA', 'TAT', 'ACT', 'CAT', 'TAA', 'CAT', 'ATC', 'ACA', 'GGA', 'GCT', 'CCA', 'AGA', 'CTC', 'TAG', 'ACA', 'ACT', 'AGA', 'CTT', 'CAA', 'AGA', 'TGC', 'CTC', 'CTG', 'TGA', 'CTG', 'GCA', 'GGG', 'GCA', 'CAT', 'CTG', 'TTC', 'TTC', 'CAC', 'AGA', 'TTC', 'AGG', 'CCA', 'GTG', 'CTA', 'CCT', 'GAG', 'AGA', 'GAC', 'TTT', 'GGA', 'GGC', 'CAG', 'CAA', 'GCA', 'GGT', 'CTC', 'TCC', 'TTG', 'CAG', 'CAC', 'CAG', 'AAA', 'ACA', 'GCT', 'CCA', 'AGA', 'CCA', 'GGA', 'AAT', 'CCG', 'AGC', 'GGA', 'GCT', 'GAA', 'CAA', 'GCA', 'CTT', 'CGG', 'TCA', 'TCC', 'CTG', 'TCA', 'AGC', 'TGT', 'GTT', 'TGA', 'CGA', 'CAA', 'ATC', 'AGA', 'CAA', 'GAC', 'CAG', 'TGA', 'ACT', 'AAG', 'GGA', 'TGG', 'CGA', 'CTT', 'CAG', 'TAA', 'TGA', 'ACA', 'ATT', 'CTC', 'CAA', 'ACT', 'ACC', 'TGT', 'GTT', 'TAT', 'AAA', 'TTC', 'AGG', 'ACT', 'AGC', 'CAT', 'GGA', 'TGG', 'CCT', 'ATT', 'TGA', 'TGA', 'CAG', 'TGA', 'AGA', 'TGA', 'AAG', 'TGA', 'TAA', 'ACT', 'GAG', 'CTA', 'CCC', 'TTG', 'GGA', 'TGG', 'CAC', 'GCA', 'GCC', 'CTA', 'TTC', 'ATT', 'GTT', 'CGA', 'TGT', 'GTC', 'GCC', 'TTC', 'TTG', 'CTC', 'TTC', 'CTT', 'TAA', 'CTC', 'TCC', 'GTG', 'TCG', 'AGA', 'CTC', 'AGT', 'GTC', 'ACC', 'ACC', 'GAA', 'ATC', 'CTT', 'ATT', 'TTC', 'TCA', 'AAG', 'ACC', 'CCA', 'AAG', 'GAT', 'GCG', 'CTC', 'TCG', 'TTC', 'AAG', 'ATC', 'CTT', 'TTC', 'TCG', 'ACA', 'CAG', 'GTC', 'GTG', 'TTC', 'CCG', 'ATC', 'ACC', 'ATA', 'TTC', 'CAG', 'GTC', 'AAG', 'ATC', 'AAG', 'GTC', 'CCC', 'AGG', 'CAG', 'TAG', 'ATC', 'CTC', 'TTC', 'AAG', 'ATC', 'CTG', 'TTA', 'CTA', 'CTA', 'TGA', 'ATC', 'AAG', 'CCA', 'CTA', 'CAG', 'ACA', 'CCG', 'CAC', 'ACA', 'CCG', 'CAA', 'TTC', 'TCC', 'CTT', 'GTA', 'TGT', 'GAG', 'ATC', 'ACG', 'TTC', 'AAG', 'GTC', 'ACC', 'CTA', 'CAG', 'CCG', 'TAG', 'GCC', 'CAG', 'GTA', 'CGA', 'CAG', 'CTA', 'TGA', 'AGC', 'CTA', 'TGA', 'GCA', 'CGA', 'AAG', 'GCT', 'CAA', 'GAG', 'GGA', 'TGA', 'ATA', 'CCG', 'CAA', 'AGA', 'GCA', 'CGA', 'GAA', 'GCG', 'GGA', 'GTC', 'TGA', 'AAG', 'GGC', 'CAA', 'ACA', 'GAG', 'AGA', 'GAG', 'GCA', 'GAA', 'GCA', 'GAA', 'AGC', 'AAT', 'TGA', 'AGA', 'GCG', 'CCG', 'TGT', 'GAT', 'TTA', 'CGT', 'TGG', 'TAA', 'AAT', 'CAG', 'ACC', 'TGA', 'CAC', 'AAC', 'GCG', 'GAC', 'AGA', 'ATT', 'GAG', 'AGA', 'CCG', 'CTT', 'TGA', 'AGT', 'TTT', 'TGG', 'TGA', 'AAT', 'TGA', 'GGA', 'ATG', 'CAC', 'CGT', 'AAA', 'TCT', 'GCG', 'GGA', 'TGA', 'TGG', 'AGA', 'CAG', 'CTA', 'TGG', 'TTT', 'CAT', 'CAC', 'CTA', 'CCG', 'TTA', 'CAC', 'CTG', 'TGA', 'CGC', 'TTT', 'CGC', 'TGC', 'TCT', 'TGA', 'GAA', 'TGG', 'ATA', 'TAC', 'TTT', 'ACG', 'CAG', 'GTC', 'GAA', 'CGA', 'AAC', 'TGA', 'CTT', 'CGA', 'GCT', 'GTA', 'CTT', 'TTG', 'TGG', 'ACG', 'GAA', 'GCA', 'ATT', 'TTT', 'CAA', 'GTC', 'TAA', 'CTA', 'TGC', 'AGA', 'CCT', 'AGA', 'TAC', 'CAA', 'CTC', 'AGA', 'CGA', 'TTT', 'TGA', 'CCC', 'TGC', 'TTC', 'CAC', 'CAA', 'GAG', 'CAA', 'GTA', 'TGA', 'CTC', 'TCT', 'GGA', 'TTT', 'TGA', 'TAG', 'TTT', 'ACT', 'GAA', 'GGA', 'AGC', 'TCA', 'GAG', 'AAG', 'CTT', 'GCG', 'CAG', 'GTA', 'ACG', 'TGT', 'TCC', 'CAG', 'GCT', 'GAG', 'GGA', 'TGA', 'CAG', 'GGA', 'TCC', 'ACC', 'GGA', 'TCT', 'AGA', 'TAA', 'CTG', 'ATC', 'ATA', 'ATC', 'AGC', 'CAT', 'ACC', 'ACA', 'TTT', 'GTA', 'GAG', 'GTT', 'TTA', 'CTT', 'GCT', 'TTA', 'AAA', 'AAC', 'CTC', 'CCA', 'CAC', 'CTC', 'CCC', 'CTG', 'AAC', 'CTG', 'AAA', 'CAT', 'AAA', 'ATG', 'AAT', 'GCA', 'ATT', 'GTT', 'GTT', 'GTT', 'AAC', 'TTG', 'TTT', 'ATT', 'GCA', 'GCT', 'TAT', 'AAT', 'GGT', 'TAC', 'AAA', 'TAA', 'AGC', 'AAT', 'AGC', 'ATC', 'ACA', 'AAT', 'TTC', 'ACA', 'AAT', 'AAA', 'GCA', 'TTT', 'TTT', 'TCA', 'CTG', 'CAT', 'TCT', 'AGT', 'TGT', 'GGT', 'TTG', 'TCC', 'AAA', 'CTC', 'ATC', 'AAT', 'GTA', 'TCT', 'TAA', 'CGC', 'GTA', 'AAT', 'TGT', 'AAG', 'CGT', 'TAA', 'TAT', 'TTT', 'GTT', 'AAA', 'ATT', 'CGC', 'GTT', 'AAA', 'TTT', 'TTG', 'TTA', 'AAT', 'CAG', 'CTC', 'ATT', 'TTT', 'TAA', 'CCA', 'ATA', 'GGC', 'CGA', 'AAT', 'CGG', 'CAA', 'AAT', 'CCC', 'TTA', 'TAA', 'ATC', 'AAA', 'AGA', 'ATA', 'GAC', 'CGA', 'GAT', 'AGG', 'GTT', 'GAG', 'TGT', 'TGT', 'TCC', 'AGT', 'TTG', 'GAA', 'CAA', 'GAG', 'TCC', 'ACT', 'ATT', 'AAA', 'GAA', 'CGT', 'GGA', 'CTC', 'CAA', 'CGT', 'CAA', 'AGG', 'GCG', 'AAA', 'AAC', 'CGT', 'CTA', 'TCA', 'GGG', 'CGA', 'TGG', 'CCC', 'ACT', 'ACG', 'TGA', 'ACC', 'ATC', 'ACC', 'CTA', 'ATC', 'AAG', 'TTT', 'TTT', 'GGG', 'GTC', 'GAG', 'GTG', 'CCG', 'TAA', 'AGC', 'ACT', 'AAA', 'TCG', 'GAA', 'CCC', 'TAA', 'AGG', 'GAG', 'CCC', 'CCG', 'ATT', 'TAG', 'AGC', 'TTG', 'ACG', 'GGG', 'AAA', 'GCC', 'GGC', 'GAA', 'CGT', 'GGC', 'GAG', 'AAA', 'GGA', 'AGG', 'GAA', 'GAA', 'AGC', 'GAA', 'AGG', 'AGC', 'GGG', 'CGC', 'TAG', 'GGC', 'GCT', 'GGC', 'AAG', 'TGT', 'AGC', 'GGT', 'CAC', 'GCT', 'GCG', 'CGT', 'AAC', 'CAC', 'CAC', 'ACC', 'CGC', 'CGC', 'GCT', 'TAA', 'TGC', 'GCC', 'GCT', 'ACA', 'GGG', 'CGC', 'GTC', 'AGG', 'TGG', 'CAC', 'TTT', 'TCG', 'GGG', 'AAA', 'TGT', 'GCG', 'CGG', 'AAC', 'CCC', 'TAT', 'TTG', 'TTT', 'ATT', 'TTT', 'CTA', 'AAT', 'ACA', 'TTC', 'AAA', 'TAT', 'GTA', 'TCC', 'GCT', 'CAT', 'GAG', 'ACA', 'ATA', 'ACC', 'CTG', 'ATA', 'AAT', 'GCT', 'TCA', 'ATA', 'ATA', 'TTG', 'AAA', 'AAG', 'GAA', 'GAG', 'TCC', 'TGA', 'GGC', 'GGA', 'AAG', 'AAC', 'CAG', 'CTG', 'TGG', 'AAT', 'GTG', 'TGT', 'CAG', 'TTA', 'GGG', 'TGT', 'GGA', 'AAG', 'TCC', 'CCA', 'GGC', 'TCC', 'CCA', 'GCA', 'GGC', 'AGA', 'AGT', 'ATG', 'CAA', 'AGC', 'ATG', 'CAT', 'CTC', 'AAT', 'TAG', 'TCA', 'GCA', 'ACC', 'AGG', 'TGT', 'GGA', 'AAG', 'TCC', 'CCA', 'GGC', 'TCC', 'CCA', 'GCA', 'GGC', 'AGA', 'AGT', 'ATG', 'CAA', 'AGC', 'ATG', 'CAT', 'CTC', 'AAT', 'TAG', 'TCA', 'GCA', 'ACC', 'ATA', 'GTC', 'CCG', 'CCC', 'CTA', 'ACT', 'CCG', 'CCC', 'ATC', 'CCG', 'CCC', 'CTA', 'ACT', 'CCG', 'CCC', 'AGT', 'TCC', 'GCC', 'CAT', 'TCT', 'CCG', 'CCC', 'CAT', 'GGC', 'TGA', 'CTA', 'ATT', 'TTT', 'TTT', 'ATT', 'TAT', 'GCA', 'GAG', 'GCC', 'GAG', 'GCC', 'GCC', 'TCG', 'GCC', 'TCT', 'GAG', 'CTA', 'TTC', 'CAG', 'AAG', 'TAG', 'TGA', 'GGA', 'GGC', 'TTT', 'TTT', 'GGA', 'GGC', 'CTA', 'GGC', 'TTT', 'TGC', 'AAA', 'GAT', 'CGA', 'TCA', 'AGA', 'GAC', 'AGG', 'ATG', 'AGG', 'ATC', 'GTT', 'TCG', 'CAT', 'GAT', 'TGA', 'ACA', 'AGA', 'TGG', 'ATT', 'GCA', 'CGC', 'AGG', 'TTC', 'TCC', 'GGC', 'CGC', 'TTG', 'GGT', 'GGA', 'GAG', 'GCT', 'ATT', 'CGG', 'CTA', 'TGA', 'CTG', 'GGC', 'ACA', 'ACA', 'GAC', 'AAT', 'CGG', 'CTG', 'CTC', 'TGA', 'TGC', 'CGC', 'CGT', 'GTT', 'CCG', 'GCT', 'GTC', 'AGC', 'GCA', 'GGG', 'GCG', 'CCC', 'GGT', 'TCT', 'TTT', 'TGT', 'CAA', 'GAC', 'CGA', 'CCT', 'GTC', 'CGG', 'TGC', 'CCT', 'GAA', 'TGA', 'ACT', 'GCA', 'AGA', 'CGA', 'GGC', 'AGC', 'GCG', 'GCT', 'ATC', 'GTG', 'GCT', 'GGC', 'CAC', 'GAC', 'GGG', 'CGT', 'TCC', 'TTG', 'CGC', 'AGC', 'TGT', 'GCT', 'CGA', 'CGT', 'TGT', 'CAC', 'TGA', 'AGC', 'GGG', 'AAG', 'GGA', 'CTG', 'GCT', 'GCT', 'ATT', 'GGG', 'CGA', 'AGT', 'GCC', 'GGG', 'GCA', 'GGA', 'TCT', 'CCT', 'GTC', 'ATC', 'TCA', 'CCT', 'TGC', 'TCC', 'TGC', 'CGA', 'GAA', 'AGT', 'ATC', 'CAT', 'CAT', 'GGC', 'TGA', 'TGC', 'AAT', 'GCG', 'GCG', 'GCT', 'GCA', 'TAC', 'GCT', 'TGA', 'TCC', 'GGC', 'TAC', 'CTG', 'CCC', 'ATT', 'CGA', 'CCA', 'CCA', 'AGC', 'GAA', 'ACA', 'TCG', 'CAT', 'CGA', 'GCG', 'AGC', 'ACG', 'TAC', 'TCG', 'GAT', 'GGA', 'AGC', 'CGG', 'TCT', 'TGT', 'CGA', 'TCA', 'GGA', 'TGA', 'TCT', 'GGA', 'CGA', 'AGA', 'GCA', 'TCA', 'GGG', 'GCT', 'CGC', 'GCC', 'AGC', 'CGA', 'ACT', 'GTT', 'CGC', 'CAG', 'GCT', 'CAA', 'GGC', 'GAG', 'CAT', 'GCC', 'CGA', 'CGG', 'CGA', 'GGA', 'TCT', 'CGT', 'CGT', 'GAC', 'CCA', 'TGG', 'CGA', 'TGC', 'CTG', 'CTT', 'GCC', 'GAA', 'TAT', 'CAT', 'GGT', 'GGA', 'AAA', 'TGG', 'CCG', 'CTT', 'TTC', 'TGG', 'ATT', 'CAT', 'CGA', 'CTG', 'TGG', 'CCG', 'GCT', 'GGG', 'TGT', 'GGC', 'GGA', 'CCG', 'CTA', 'TCA', 'GGA', 'CAT', 'AGC', 'GTT', 'GGC', 'TAC', 'CCG', 'TGA', 'TAT', 'TGC', 'TGA', 'AGA', 'GCT', 'TGG', 'CGG', 'CGA', 'ATG', 'GGC', 'TGA', 'CCG', 'CTT', 'CCT', 'CGT', 'GCT', 'TTA', 'CGG', 'TAT', 'CGC', 'CGC', 'TCC', 'CGA', 'TTC', 'GCA', 'GCG', 'CAT', 'CGC', 'CTT', 'CTA', 'TCG', 'CCT', 'TCT', 'TGA', 'CGA', 'GTT', 'CTT', 'CTG', 'AGC', 'GGG', 'ACT', 'CTG', 'GGG', 'TTC', 'GAA', 'ATG', 'ACC', 'GAC', 'CAA', 'GCG', 'ACG', 'CCC', 'AAC', 'CTG', 'CCA', 'TCA', 'CGA', 'GAT', 'TTC', 'GAT', 'TCC', 'ACC', 'GCC', 'GCC', 'TTC', 'TAT', 'GAA', 'AGG', 'TTG', 'GGC', 'TTC', 'GGA', 'ATC', 'GTT', 'TTC', 'CGG', 'GAC', 'GCC', 'GGC', 'TGG', 'ATG', 'ATC', 'CTC', 'CAG', 'CGC', 'GGG', 'GAT', 'CTC', 'ATG', 'CTG', 'GAG', 'TTC', 'TTC', 'GCC', 'CAC', 'CCT', 'AGG', 'GGG', 'AGG', 'CTA', 'ACT', 'GAA', 'ACA', 'CGG', 'AAG', 'GAG', 'ACA', 'ATA', 'CCG', 'GAA', 'GGA', 'ACC', 'CGC', 'GCT', 'ATG', 'ACG', 'GCA', 'ATA', 'AAA', 'AGA', 'CAG', 'AAT', 'AAA', 'ACG', 'CAC', 'GGT', 'GTT', 'GGG', 'TCG', 'TTT', 'GTT', 'CAT', 'AAA', 'CGC', 'GGG', 'GTT', 'CGG', 'TCC', 'CAG', 'GGC', 'TGG', 'CAC', 'TCT', 'GTC', 'GAT', 'ACC', 'CCA', 'CCG', 'AGA', 'CCC', 'CAT', 'TGG', 'GGC', 'CAA', 'TAC', 'GCC', 'CGC', 'GTT', 'TCT', 'TCC', 'TTT', 'TCC', 'CCA', 'CCC', 'CAC', 'CCC', 'CCA', 'AGT', 'TCG', 'GGT', 'GAA', 'GGC', 'CCA', 'GGG', 'CTC', 'GCA', 'GCC', 'AAC', 'GTC', 'GGG', 'GCG', 'GCA', 'GGC', 'CCT', 'GCC', 'ATA', 'GCC', 'TCA', 'GGT', 'TAC', 'TCA', 'TAT', 'ATA', 'CTT', 'TAG', 'ATT', 'GAT', 'TTA', 'AAA', 'CTT', 'CAT', 'TTT', 'TAA', 'TTT', 'AAA', 'AGG', 'ATC', 'TAG', 'GTG', 'AAG', 'ATC', 'CTT', 'TTT', 'GAT', 'AAT', 'CTC', 'ATG', 'ACC', 'AAA', 'ATC', 'CCT', 'TAA', 'CGT', 'GAG', 'TTT', 'TCG', 'TTC', 'CAC', 'TGA', 'GCG', 'TCA', 'GAC', 'CCC', 'GTA', 'GAA', 'AAG', 'ATC', 'AAA', 'GGA', 'TCT', 'TCT', 'TGA', 'GAT', 'CCT', 'TTT', 'TTT', 'CTG', 'CGC', 'GTA', 'ATC', 'TGC', 'TGC', 'TTG', 'CAA', 'ACA', 'AAA', 'AAA', 'CCA', 'CCG', 'CTA', 'CCA', 'GCG', 'GTG', 'GTT', 'TGT', 'TTG', 'CCG', 'GAT', 'CAA', 'GAG', 'CTA', 'CCA', 'ACT', 'CTT', 'TTT', 'CCG', 'AAG', 'GTA', 'ACT', 'GGC', 'TTC', 'AGC', 'AGA', 'GCG', 'CAG', 'ATA', 'CCA', 'AAT', 'ACT', 'GTT', 'CTT', 'CTA', 'GTG', 'TAG', 'CCG', 'TAG', 'TTA', 'GGC', 'CAC', 'CAC', 'TTC', 'AAG', 'AAC', 'TCT', 'GTA', 'GCA', 'CCG', 'CCT', 'ACA', 'TAC', 'CTC', 'GCT', 'CTG', 'CTA', 'ATC', 'CTG', 'TTA', 'CCA', 'GTG', 'GCT', 'GCT', 'GCC', 'AGT', 'GGC', 'GAT', 'AAG', 'TCG', 'TGT', 'CTT', 'ACC', 'GGG', 'TTG', 'GAC', 'TCA', 'AGA', 'CGA', 'TAG', 'TTA', 'CCG', 'GAT', 'AAG', 'GCG', 'CAG', 'CGG', 'TCG', 'GGC', 'TGA', 'ACG', 'GGG', 'GGT', 'TCG', 'TGC', 'ACA', 'CAG', 'CCC', 'AGC', 'TTG', 'GAG', 'CGA', 'ACG', 'ACC', 'TAC', 'ACC', 'GAA', 'CTG', 'AGA', 'TAC', 'CTA', 'CAG', 'CGT', 'GAG', 'CTA', 'TGA', 'GAA', 'AGC', 'GCC', 'ACG', 'CTT', 'CCC', 'GAA', 'GGG', 'AGA', 'AAG', 'GCG', 'GAC', 'AGG', 'TAT', 'CCG', 'GTA', 'AGC', 'GGC', 'AGG', 'GTC', 'GGA', 'ACA', 'GGA', 'GAG', 'CGC', 'ACG', 'AGG', 'GAG', 'CTT', 'CCA', 'GGG', 'GGA', 'AAC', 'GCC', 'TGG', 'TAT', 'CTT', 'TAT', 'AGT', 'CCT', 'GTC', 'GGG', 'TTT', 'CGC', 'CAC', 'CTC', 'TGA', 'CTT', 'GAG', 'CGT', 'CGA', 'TTT', 'TTG', 'TGA', 'TGC', 'TCG', 'TCA', 'GGG', 'GGG', 'CGG', 'AGC', 'CTA', 'TGG', 'AAA', 'AAC', 'GCC', 'AGC', 'AAC', 'GCG', 'GCC', 'TTT', 'TTA', 'CGG', 'TTC', 'CTG', 'GCC', 'TTT', 'TGC', 'TGG', 'CCT', 'TTT', 'GCT', 'CAC', 'ATG', 'TTC', 'TTT', 'CCT', 'GCG', 'TTA', 'TCC', 'CCT', 'GAT', 'TCT', 'GTG', 'GAT', 'AAC', 'CGT', 'ATT', 'ACC', 'GCC'], ['9ZIMC'])\n"
          ],
          "name": "stdout"
        },
        {
          "output_type": "stream",
          "text": [
            "\n",
            "100%|██████████| 63017/63017 [00:00<00:00, 2860431.54it/s]\n",
            "100%|██████████| 63017/63017 [00:00<00:00, 3076154.87it/s]\n",
            "100%|██████████| 63017/63017 [00:00<00:00, 3030967.10it/s]\n",
            "100%|██████████| 63017/63017 [00:00<00:00, 2587468.11it/s]\n",
            "100%|██████████| 63017/63017 [00:00<00:00, 2667155.62it/s]\n",
            "100%|██████████| 63017/63017 [00:00<00:00, 3173704.46it/s]\n",
            "100%|██████████| 63017/63017 [00:00<00:00, 3088520.02it/s]\n",
            "100%|██████████| 63017/63017 [00:00<00:00, 2656139.64it/s]\n",
            "100%|██████████| 63017/63017 [00:00<00:00, 2863530.49it/s]\n",
            "100%|██████████| 63017/63017 [00:00<00:00, 3025450.76it/s]\n",
            "100%|██████████| 63017/63017 [00:00<00:00, 3206546.91it/s]\n",
            "100%|██████████| 63017/63017 [00:00<00:00, 2506067.71it/s]\n",
            "100%|██████████| 63017/63017 [00:00<00:00, 3088772.67it/s]\n",
            "100%|██████████| 63017/63017 [00:00<00:00, 3158722.89it/s]\n",
            "100%|██████████| 63017/63017 [00:00<00:00, 2839962.34it/s]\n",
            "100%|██████████| 63017/63017 [00:00<00:00, 3057473.34it/s]\n",
            "100%|██████████| 63017/63017 [00:00<00:00, 3074401.61it/s]\n",
            "100%|██████████| 63017/63017 [00:00<00:00, 3126404.10it/s]\n",
            "100%|██████████| 63017/63017 [00:00<00:00, 3068583.68it/s]\n",
            "100%|██████████| 63017/63017 [00:00<00:00, 2660176.28it/s]\n",
            "100%|██████████| 63017/63017 [00:00<00:00, 2992837.63it/s]\n",
            "100%|██████████| 63017/63017 [00:00<00:00, 3035562.01it/s]\n",
            "100%|██████████| 63017/63017 [00:00<00:00, 2966802.73it/s]\n",
            "100%|██████████| 63017/63017 [00:00<00:00, 2480595.91it/s]\n",
            "100%|██████████| 63017/63017 [00:00<00:00, 3151341.38it/s]\n",
            "100%|██████████| 63017/63017 [00:00<00:00, 2684656.18it/s]\n",
            "100%|██████████| 63017/63017 [00:00<00:00, 2614728.60it/s]\n",
            "100%|██████████| 63017/63017 [00:00<00:00, 2569732.98it/s]\n",
            "100%|██████████| 63017/63017 [00:00<00:00, 3086824.74it/s]\n",
            "100%|██████████| 63017/63017 [00:00<00:00, 2629608.36it/s]\n"
          ],
          "name": "stderr"
        }
      ]
    },
    {
      "cell_type": "code",
      "metadata": {
        "id": "9KZ-6HLPypWv"
      },
      "source": [
        "# Saving both train & test\n",
        "\n",
        "z = pd.DataFrame(X_train)\n",
        "z2 = pd.DataFrame(y_train)\n",
        "z2.columns=['sequence_id']\n",
        "z3 = pd.concat([z, z2], axis=1)\n",
        "z3.to_csv(pth+'train_doc2vec2.csv', sep=',', index=False)\n",
        "\n",
        "\n",
        "z = pd.DataFrame(X_test)\n",
        "z2 = pd.DataFrame(y_test)\n",
        "z2.columns=['sequence_id']\n",
        "z3 = pd.concat([z, z2], axis=1)\n",
        "z3.to_csv(pth+'test_doc2vec2.csv', sep=',', index=False)"
      ],
      "execution_count": null,
      "outputs": []
    },
    {
      "cell_type": "code",
      "metadata": {
        "id": "5NZjqWAdHyUv"
      },
      "source": [
        "train_doc2vec = pd.read_csv(pth+'train_doc2vec2.csv')\n",
        "\n",
        "test_doc2vec = pd.read_csv(pth+'test_doc2vec2.csv')\n"
      ],
      "execution_count": null,
      "outputs": []
    },
    {
      "cell_type": "code",
      "metadata": {
        "id": "L1_p1o9BuvRb",
        "outputId": "5df5d264-9274-4245-becc-a8e1bf587076",
        "colab": {
          "base_uri": "https://localhost:8080/",
          "height": 35
        }
      },
      "source": [
        "test_doc2vec.shape"
      ],
      "execution_count": null,
      "outputs": [
        {
          "output_type": "execute_result",
          "data": {
            "text/plain": [
              "(18816, 251)"
            ]
          },
          "metadata": {
            "tags": []
          },
          "execution_count": 18
        }
      ]
    },
    {
      "cell_type": "code",
      "metadata": {
        "id": "lCSIBFrbIolM"
      },
      "source": [
        "x = list(values.columns)\n",
        "\n",
        "x.remove('sample')\n",
        "x.remove('sequence_id')\n",
        "x.remove('sequence')"
      ],
      "execution_count": null,
      "outputs": []
    },
    {
      "cell_type": "code",
      "metadata": {
        "id": "-hOL8yDPMjr7"
      },
      "source": [
        "flags_features_binary = x.copy()"
      ],
      "execution_count": null,
      "outputs": []
    },
    {
      "cell_type": "code",
      "metadata": {
        "id": "aFahg9i0NLM3"
      },
      "source": [
        "# train_values - > train\n",
        "train_full = pd.concat([train_doc2vec, train.loc[:, flags_features_binary]], axis=1)"
      ],
      "execution_count": null,
      "outputs": []
    },
    {
      "cell_type": "code",
      "metadata": {
        "id": "8lXDxm-6NnfU"
      },
      "source": [
        "test_full = pd.concat([test_doc2vec, test.loc[:, flags_features_binary]], axis=1)"
      ],
      "execution_count": null,
      "outputs": []
    },
    {
      "cell_type": "code",
      "metadata": {
        "id": "gfoqbxFYN4A2"
      },
      "source": [
        "train_full.to_csv(pth+'train_full2.csv', index=False, sep=',')\n",
        "\n",
        "test_full.to_csv(pth+'test_full2.csv', index=False, sep=',')\n",
        "\n"
      ],
      "execution_count": null,
      "outputs": []
    },
    {
      "cell_type": "code",
      "metadata": {
        "id": "0cpnvCfwXCvQ"
      },
      "source": [
        "# Перезапуск отсюда\n",
        "if True:\n",
        "  train_full = pd.read_csv(pth+'train_full2.csv', sep=',')\n",
        "  test_full = pd.read_csv(pth+'test_full2.csv', sep=',')\n",
        "\n",
        "train_labels = pd.read_csv(pth+'train_labels.csv')"
      ],
      "execution_count": null,
      "outputs": []
    },
    {
      "cell_type": "code",
      "metadata": {
        "id": "aOu6pvLpv9X2"
      },
      "source": [
        "train_full.drop(['sequence_by_3'], axis=1, inplace=True)\n",
        "test_full.drop(['sequence_by_3'], axis=1, inplace=True)\n"
      ],
      "execution_count": null,
      "outputs": []
    },
    {
      "cell_type": "code",
      "metadata": {
        "id": "EexEpFbvbgnT"
      },
      "source": [
        "\n",
        "def col_for_single_1_in_row(df, list_cols, new_col_name):\n",
        "  w = []\n",
        "  for i in range(len(df)):\n",
        "    s = df.loc[i, list_cols]==1\n",
        "    e = [ind for ind, x in enumerate(s) if x==True]\n",
        "    w.append(list_cols[e[0]])\n",
        "  df[new_col_name] = w\n",
        "  return df"
      ],
      "execution_count": null,
      "outputs": []
    },
    {
      "cell_type": "code",
      "metadata": {
        "id": "wiYxMjYqchRB"
      },
      "source": [
        "y = list(train_labels.columns)\n",
        "y.remove('sequence_id')\n",
        "\n"
      ],
      "execution_count": null,
      "outputs": []
    },
    {
      "cell_type": "code",
      "metadata": {
        "id": "Dtq_Whr7wawG"
      },
      "source": [
        "train_labels = col_for_single_1_in_row(train_labels, y, 'target')"
      ],
      "execution_count": null,
      "outputs": []
    },
    {
      "cell_type": "code",
      "metadata": {
        "id": "lHzsJD7Yclwq",
        "outputId": "4d76f839-bae4-4a24-8a33-8d738da2e2f7",
        "colab": {
          "base_uri": "https://localhost:8080/",
          "height": 235
        }
      },
      "source": [
        "train_labels['target'].value_counts(normalize=True)"
      ],
      "execution_count": null,
      "outputs": [
        {
          "output_type": "execute_result",
          "data": {
            "text/plain": [
              "I7FXTVDP    0.131488\n",
              "RKJHZGDQ    0.043353\n",
              "GTVTUGVY    0.042401\n",
              "A18S09P2    0.016884\n",
              "Q2K8NHZY    0.015440\n",
              "              ...   \n",
              "G2P73NZ0    0.000048\n",
              "58BSUZQB    0.000048\n",
              "WB78G3XF    0.000032\n",
              "ON9AXMKF    0.000016\n",
              "0L3Y6ZB2    0.000016\n",
              "Name: target, Length: 1314, dtype: float64"
            ]
          },
          "metadata": {
            "tags": []
          },
          "execution_count": 9
        }
      ]
    },
    {
      "cell_type": "code",
      "metadata": {
        "id": "_NDZKpt8evmQ"
      },
      "source": [
        "le = LabelEncoder()\n",
        "\n",
        "t_classes = le.fit_transform(train_labels['target'])\n",
        "\n",
        "train_labels['target_enc'] = t_classes\n",
        "\n",
        "mapping = dict(zip(le.classes_, range(len(le.classes_))))"
      ],
      "execution_count": null,
      "outputs": []
    },
    {
      "cell_type": "code",
      "metadata": {
        "id": "TrZEjO3VPd7v"
      },
      "source": [
        "X_train, X_test, y_train, y_test = train_test_split(train_full.drop(['sequence_id'], axis=1), \n",
        "                                                    train_labels['target_enc'], test_size=0.2, random_state=11)"
      ],
      "execution_count": null,
      "outputs": []
    },
    {
      "cell_type": "code",
      "metadata": {
        "id": "YVpKsJIj2Gx0"
      },
      "source": [
        "features_cat = ['bacterial_resistance_ampicillin',\n",
        " 'bacterial_resistance_chloramphenicol',\n",
        " 'bacterial_resistance_kanamycin',\n",
        " 'bacterial_resistance_other',\n",
        " 'bacterial_resistance_spectinomycin',\n",
        " 'copy_number_high_copy',\n",
        " 'copy_number_low_copy',\n",
        " 'copy_number_unknown',\n",
        " 'growth_strain_ccdb_survival',\n",
        " 'growth_strain_dh10b',\n",
        " 'growth_strain_dh5alpha',\n",
        " 'growth_strain_neb_stable',\n",
        " 'growth_strain_other',\n",
        " 'growth_strain_stbl3',\n",
        " 'growth_strain_top10',\n",
        " 'growth_strain_xl1_blue',\n",
        " 'growth_temp_30',\n",
        " 'growth_temp_37',\n",
        " 'growth_temp_other',\n",
        " 'selectable_markers_blasticidin',\n",
        " 'selectable_markers_his3',\n",
        " 'selectable_markers_hygromycin',\n",
        " 'selectable_markers_leu2',\n",
        " 'selectable_markers_neomycin',\n",
        " 'selectable_markers_other',\n",
        " 'selectable_markers_puromycin',\n",
        " 'selectable_markers_trp1',\n",
        " 'selectable_markers_ura3',\n",
        " 'selectable_markers_zeocin',\n",
        " 'species_budding_yeast',\n",
        " 'species_fly',\n",
        " 'species_human',\n",
        " 'species_mouse',\n",
        " 'species_mustard_weed',\n",
        " 'species_nematode',\n",
        " 'species_other',\n",
        " 'species_rat',\n",
        " 'species_synthetic',\n",
        " 'species_zebrafish']"
      ],
      "execution_count": null,
      "outputs": []
    },
    {
      "cell_type": "code",
      "metadata": {
        "id": "ky0F8RJ0mFZT",
        "outputId": "72524c54-25d0-441e-b9cd-ef7c813ef600",
        "colab": {
          "base_uri": "https://localhost:8080/",
          "height": 183
        }
      },
      "source": [
        "full_run = True\n",
        "valid_run = False\n",
        "\n",
        "if (full_run and valid_run) or not(full_run or valid_run):\n",
        "  full_run = False\n",
        "  valid_run = True\n",
        "\n",
        "print('start training')\n",
        "print(datetime.datetime.now())\n",
        "\n",
        "lgbm_classifier = lgb.LGBMClassifier(\n",
        "    objective='multiclass',\n",
        "    boosting='gbdt',\n",
        "    learning_rate = 0.01,\n",
        "    metric='multi_logloss',\n",
        "    max_depth = 50,\n",
        "    #num_leaves = 80,\n",
        "    n_estimators = 150,\n",
        "    num_class = 1314,\n",
        "    random_state = rs)\n",
        "\n",
        "\n",
        "\n",
        "\n",
        "\n",
        "if valid_run:\n",
        "  lgbm_classifier.fit(X_train, y_train, categorical_feature=features_cat)\n",
        "  \n",
        "\n",
        "if full_run:\n",
        "  lgbm_classifier.fit(train_full.drop(['sequence_id'], axis=1), train_labels['target_enc'], categorical_feature=features_cat)\n",
        "\n",
        "\n",
        "print('end training')\n",
        "print(datetime.datetime.now())\n",
        "\n",
        "if valid_run:\n",
        "  y_pred = lgbm_classifier.predict(X_test)\n",
        "  print(str(np.mean(y_pred==y_test)))\n",
        "\n",
        "\n",
        "if full_run:\n",
        "  y_pred = lgbm_classifier.predict_proba(test_full.drop(['sequence_id'], axis=1))\n",
        "\n",
        "  # Creating a list of laboratories\n",
        "  list_labs = list(train_labels.columns)\n",
        "  list_labs.remove('target')\n",
        "  list_labs.remove('sequence_id')\n",
        "  list_labs.remove('target_enc')\n",
        "\n",
        "  df_res = pd.concat([pd.DataFrame(test_full['sequence_id']), pd.DataFrame(y_pred)], axis=1)\n",
        "  df_res.columns = ['sequence_id'] + list_labs\n",
        "\n",
        "  df_res.to_csv(pth+'submission1.csv', index=False, sep=',')\n",
        "\n",
        "print('finish')\n",
        "\n"
      ],
      "execution_count": null,
      "outputs": [
        {
          "output_type": "stream",
          "text": [
            "start training\n",
            "2020-08-22 12:29:42.698648\n"
          ],
          "name": "stdout"
        },
        {
          "output_type": "stream",
          "text": [
            "/usr/local/lib/python3.6/dist-packages/lightgbm/basic.py:1209: UserWarning: categorical_feature in Dataset is overridden.\n",
            "New categorical_feature is ['bacterial_resistance_ampicillin', 'bacterial_resistance_chloramphenicol', 'bacterial_resistance_kanamycin', 'bacterial_resistance_other', 'bacterial_resistance_spectinomycin', 'copy_number_high_copy', 'copy_number_low_copy', 'copy_number_unknown', 'growth_strain_ccdb_survival', 'growth_strain_dh10b', 'growth_strain_dh5alpha', 'growth_strain_neb_stable', 'growth_strain_other', 'growth_strain_stbl3', 'growth_strain_top10', 'growth_strain_xl1_blue', 'growth_temp_30', 'growth_temp_37', 'growth_temp_other', 'selectable_markers_blasticidin', 'selectable_markers_his3', 'selectable_markers_hygromycin', 'selectable_markers_leu2', 'selectable_markers_neomycin', 'selectable_markers_other', 'selectable_markers_puromycin', 'selectable_markers_trp1', 'selectable_markers_ura3', 'selectable_markers_zeocin', 'species_budding_yeast', 'species_fly', 'species_human', 'species_mouse', 'species_mustard_weed', 'species_nematode', 'species_other', 'species_rat', 'species_synthetic', 'species_zebrafish']\n",
            "  'New categorical_feature is {}'.format(sorted(list(categorical_feature))))\n"
          ],
          "name": "stderr"
        },
        {
          "output_type": "stream",
          "text": [
            "end training\n",
            "2020-08-22 18:06:17.765742\n",
            "finish\n"
          ],
          "name": "stdout"
        }
      ]
    },
    {
      "cell_type": "code",
      "metadata": {
        "id": "O4oI_tADaCQH"
      },
      "source": [
        ""
      ],
      "execution_count": null,
      "outputs": []
    }
  ]
}