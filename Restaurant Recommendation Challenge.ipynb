{
  "nbformat": 4,
  "nbformat_minor": 0,
  "metadata": {
    "colab": {
      "name": "Akeed 9.ipynb",
      "provenance": [],
      "collapsed_sections": [],
      "authorship_tag": "ABX9TyNC/31pDb397tpDj07I1IMO",
      "include_colab_link": true
    },
    "kernelspec": {
      "name": "python3",
      "display_name": "Python 3"
    }
  },
  "cells": [
    {
      "cell_type": "markdown",
      "metadata": {
        "id": "view-in-github",
        "colab_type": "text"
      },
      "source": [
        "<a href=\"https://colab.research.google.com/github/remart90/Python/blob/master/Restaurant%20Recommendation%20Challenge.ipynb\" target=\"_parent\"><img src=\"https://colab.research.google.com/assets/colab-badge.svg\" alt=\"Open In Colab\"/></a>"
      ]
    },
    {
      "cell_type": "code",
      "metadata": {
        "id": "kzbNEEef-J5_",
        "colab_type": "code",
        "colab": {
          "base_uri": "https://localhost:8080/",
          "height": 34
        },
        "outputId": "a500a3ba-c1cd-42d5-d796-7de28ca95c45"
      },
      "source": [
        "# My solution for 'Akeed Restaurant Recommendation Challenge'\n",
        "# (https://zindi.africa/competitions/akeed-restaurant-recommendation-challenge)\n",
        "# July-Aug 2020\n",
        "# Ranked 49/242 at the private leaderboard\n",
        "\n",
        "# Mounting the Drive\n",
        "from google.colab import drive\n",
        "drive.mount('/content/gdrive')"
      ],
      "execution_count": null,
      "outputs": [
        {
          "output_type": "stream",
          "text": [
            "Drive already mounted at /content/gdrive; to attempt to forcibly remount, call drive.mount(\"/content/gdrive\", force_remount=True).\n"
          ],
          "name": "stdout"
        }
      ]
    },
    {
      "cell_type": "code",
      "metadata": {
        "id": "_t53s0JXVJyA",
        "colab_type": "code",
        "colab": {}
      },
      "source": [
        "# Some constants\n",
        "pth = '/content/gdrive/My Drive/Akeed/'\n",
        "\n",
        "use_delayed = False\n",
        "submission_name = 'submission_1.csv'\n",
        "n_comp = 5\n",
        "\n",
        "\n",
        "frac_size = 0.2\n",
        "rs = 222\n",
        "rr = 'target'"
      ],
      "execution_count": null,
      "outputs": []
    },
    {
      "cell_type": "code",
      "metadata": {
        "id": "ptsd5lrIAiHR",
        "colab_type": "code",
        "colab": {}
      },
      "source": [
        "import pandas as pd\n",
        "import numpy as np\n",
        "from sklearn.model_selection import train_test_split\n",
        "import lightgbm as lgb\n",
        "from sklearn.metrics import f1_score\n",
        "from matplotlib import pyplot as plt\n",
        "from sklearn.cluster import KMeans\n",
        "from sklearn.decomposition import PCA\n",
        "import gc\n",
        "from sklearn.cluster import MiniBatchKMeans\n",
        "import datetime\n",
        "import re"
      ],
      "execution_count": null,
      "outputs": []
    },
    {
      "cell_type": "code",
      "metadata": {
        "id": "s6VVGuF3lZgT",
        "colab_type": "code",
        "colab": {}
      },
      "source": [
        "np.random.seed(rs)"
      ],
      "execution_count": null,
      "outputs": []
    },
    {
      "cell_type": "code",
      "metadata": {
        "id": "6wcE7xN-EfQG",
        "colab_type": "code",
        "colab": {}
      },
      "source": [
        "def lgbm_val(X_train, X_val, y_train, y_val, cat_features):\n",
        "    # create dataset\n",
        "    train = lgb.Dataset(X_train, label = y_train, categorical_feature=cat_features)\n",
        "    valid = lgb.Dataset(X_val, label = y_val, categorical_feature=cat_features)\n",
        "    \n",
        "    \n",
        "    # parameter setting\n",
        "    params1 = {\n",
        "        'boosting_type': 'gbdt',\n",
        "        'metric': 'AUC',\n",
        "        'objective': 'binary',\n",
        "        'is_unbalance': True,\n",
        "        'feature_fraction':0.8,\n",
        "        'bagging_fraction': 0.75,\n",
        "        'bagging_freq': 10, \n",
        "        'colsample_bytree': 0.75,\n",
        "        'learning_rate': 0.1,\n",
        "        'max_bin': 510,\n",
        "        'random_seed': rs,\n",
        "        'lambda_l1': 1.2}  \n",
        "     \n",
        "    params = params1\n",
        "    \n",
        "    lgbm = lgb.train(params, \n",
        "                    train,\n",
        "                    num_boost_round = 3000,\n",
        "                    early_stopping_rounds=300,\n",
        "                    valid_sets = [valid], \n",
        "                    verbose_eval = False)\n",
        "    \n",
        "\n",
        "    pred_train = lgbm.predict(X_train)\n",
        "    pred_val = lgbm.predict(X_val)\n",
        "    \n",
        "    return pred_train, pred_val, lgbm\n",
        "\n",
        "\n",
        "def get_distance(lat1, long1, lat2, long2):\n",
        "  t = (long2 - long1)**2 + (lat2 - lat1)**2\n",
        "  return np.sqrt(t)\n",
        "\n",
        "\n",
        "def apply_age_group(input_f):\n",
        "  if np.isnan(input_f):\n",
        "    return 0\n",
        "  else:\n",
        "    t_age = 2019 - input_f\n",
        "    if t_age<18:\n",
        "      res = 1\n",
        "    elif t_age>=18 and t_age<25:\n",
        "      res = 2\n",
        "    elif t_age>=25 and t_age<35:\n",
        "      res = 3\n",
        "    elif t_age>=35 and t_age<45:\n",
        "      res = 4\n",
        "    elif t_age>=45 and t_age<55:\n",
        "      res = 5\n",
        "    else:\n",
        "      res = 6\n",
        "    \n",
        "    return res\n",
        "\n",
        "\n",
        "def parse_opening(input_s):\n",
        "  if str(input_s)!='nan':\n",
        "    l = str(input_s).split('-')\n",
        "    return l[0], l[1]\n",
        "  else:\n",
        "    return 'not_available', 'not_available'\n",
        "\n",
        "\n",
        "def account_days(input_s, m):\n",
        "  diff = m - input_s\n",
        "  return diff\n",
        "\n",
        "# Credits to:\n",
        "# https://www.kdnuggets.com/2018/12/feature-building-techniques-tricks-kaggle.html\n",
        "# for the ideas of how to process geo coordinates\n",
        "\n",
        "def haversine_array(lat1, lng1, lat2, lng2):\n",
        "    lat1, lng1, lat2, lng2 = map(np.radians, (lat1, lng1, lat2, lng2))\n",
        "    AVG_EARTH_RADIUS = 6371  # in km\n",
        "    lat = lat2 - lat1\n",
        "    lng = lng2 - lng1\n",
        "    d = np.sin(lat * 0.5) ** 2 + np.cos(lat1) * np.cos(lat2) * np.sin(lng * 0.5) ** 2\n",
        "    h = 2 * AVG_EARTH_RADIUS * np.arcsin(np.sqrt(d))\n",
        "    return h\n",
        "\n",
        "def dummy_manhattan_distance(lat1, lng1, lat2, lng2):\n",
        "    a = haversine_array(lat1, lng1, lat1, lng2)\n",
        "    b = haversine_array(lat1, lng1, lat2, lng1)\n",
        "    return a + b\n",
        "\n",
        "def bearing_array(lat1, lng1, lat2, lng2):\n",
        "    AVG_EARTH_RADIUS = 6371  # in km\n",
        "    lng_delta_rad = np.radians(lng2 - lng1)\n",
        "    lat1, lng1, lat2, lng2 = map(np.radians, (lat1, lng1, lat2, lng2))\n",
        "    y = np.sin(lng_delta_rad) * np.cos(lat2)\n",
        "    x = np.cos(lat1) * np.sin(lat2) - np.sin(lat1) * np.cos(lat2) * np.cos(lng_delta_rad)\n",
        "    return np.degrees(np.arctan2(y, x))\n",
        "\n",
        "\n",
        "dummy_manhattan_distance_v = np.vectorize(dummy_manhattan_distance)\n",
        "haversine_array_v = np.vectorize(haversine_array)\n",
        "bearing_array_v = np.vectorize(bearing_array)\n",
        "\n",
        "\n",
        "get_distance_v = np.vectorize(get_distance)\n",
        "apply_age_group_v = np.vectorize(apply_age_group)\n",
        "parse_opening_v = np.vectorize(parse_opening)\n",
        "account_days_v = np.vectorize(account_days)"
      ],
      "execution_count": null,
      "outputs": []
    },
    {
      "cell_type": "code",
      "metadata": {
        "id": "gGM0ssJBAmUC",
        "colab_type": "code",
        "colab": {
          "base_uri": "https://localhost:8080/",
          "height": 71
        },
        "outputId": "fdf61d66-3dba-4d9d-fad3-4808a49d4e95"
      },
      "source": [
        "# Loading the dataframes\n",
        "test_customers = pd.read_csv(pth+'test_customers.csv')\n",
        "\n",
        "test_locations = pd.read_csv(pth+'test_locations.csv')\n",
        "\n",
        "train_customers = pd.read_csv(pth+'train_customers.csv')\n",
        "\n",
        "train_locations = pd.read_csv(pth+'train_locations.csv')\n",
        "\n",
        "orders = pd.read_csv(pth+'orders.csv')\n",
        "\n",
        "vendors = pd.read_csv(pth+'vendors.csv')\n",
        "\n",
        "SampleSubmission = pd.read_csv(pth+'SampleSubmission.csv')"
      ],
      "execution_count": null,
      "outputs": [
        {
          "output_type": "stream",
          "text": [
            "/usr/local/lib/python3.6/dist-packages/IPython/core/interactiveshell.py:2718: DtypeWarning: Columns (15,16,18,19,20) have mixed types.Specify dtype option on import or set low_memory=False.\n",
            "  interactivity=interactivity, compiler=compiler, result=result)\n"
          ],
          "name": "stderr"
        }
      ]
    },
    {
      "cell_type": "code",
      "metadata": {
        "id": "8jFQuFTzZjWu",
        "colab_type": "code",
        "colab": {}
      },
      "source": [
        "# Renaming columns in a proper way\n",
        "\n",
        "# test_customers\n",
        "m = test_customers.columns\n",
        "m = ['C_' + item for item in m]\n",
        "test_customers.columns = m\n",
        "test_customers.rename(columns={'C_akeed_customer_id':'customer_id'}, inplace=True)\n",
        "\n",
        "# train_customers\n",
        "m = train_customers.columns\n",
        "m = ['C_' + item for item in m]\n",
        "train_customers.columns = m\n",
        "train_customers.rename(columns={'C_akeed_customer_id':'customer_id'}, inplace=True)\n",
        "\n",
        "# orders\n",
        "m = orders.columns\n",
        "m = ['O_' + item for item in m]\n",
        "orders.columns = m\n",
        "orders.rename(columns={'O_akeed_order_id':'order_id', 'O_customer_id':'customer_id', 'O_vendor_id':'vendor_id',\n",
        "                       'O_LOCATION_NUMBER':'location_number', 'O_CID X LOC_NUM X VENDOR':'CID X LOC_NUM X VENDOR'}, inplace=True)\n",
        "\n",
        "# vendors\n",
        "m = vendors.columns\n",
        "m = ['V_' + item for item in m]\n",
        "vendors.columns = m\n",
        "vendors.rename(columns={'V_id':'vendor_id'}, inplace=True)\n",
        "\n",
        "\n",
        "# test_locations\n",
        "m = test_locations.columns\n",
        "m = ['L_' + item for item in m]\n",
        "test_locations.columns = m\n",
        "test_locations.rename(columns={'L_customer_id':'customer_id', 'L_location_number':'location_number'}, inplace=True)\n",
        "\n",
        "# train_locations\n",
        "m = train_locations.columns\n",
        "m = ['L_' + item for item in m]\n",
        "train_locations.columns = m\n",
        "train_locations.rename(columns={'L_customer_id':'customer_id', 'L_location_number':'location_number'}, inplace=True)"
      ],
      "execution_count": null,
      "outputs": []
    },
    {
      "cell_type": "code",
      "metadata": {
        "id": "30qtaSwpIdUY",
        "colab_type": "code",
        "colab": {}
      },
      "source": [
        "# Some feature engineering\n",
        "q = []\n",
        "q_tmp = []\n",
        "\n",
        "q1 = ['O_grand_total', 'O_vendor_discount_amount', 'O_deliverydistance']\n",
        "\n",
        "for item in q1:\n",
        "  item_t = item + '_by_vendors'\n",
        "  orders[item_t] = orders.groupby(['vendor_id'])[item].transform('mean')\n",
        "  q.append(item_t)\n",
        "\n",
        "q2 = ['O_vendor_rating', 'O_item_count', 'O_promo_code_discount_percentage', 'O_preparationtime']\n",
        "\n",
        "for item in q2:\n",
        "  item_t = item + '_by_vendors'\n",
        "  orders[item+'_tmp'] = orders[item].fillna(orders.groupby(['vendor_id'])[item].transform('mean'))\n",
        "  orders[item_t] = orders.groupby(['vendor_id'])[item+'_tmp'].transform('mean')\n",
        "  q.append(item_t)\n",
        "  q_tmp.append(item+'_tmp')\n",
        "\n",
        "\n",
        "orders.drop(q1+q2+q_tmp, axis=1, inplace=True)\n"
      ],
      "execution_count": null,
      "outputs": []
    },
    {
      "cell_type": "code",
      "metadata": {
        "id": "lUe_bLOPuh8v",
        "colab_type": "code",
        "colab": {}
      },
      "source": [
        "# Processing 'vendor_tag_name' field that contains text descriptions\n",
        "t = list(vendors['V_vendor_tag_name'])\n",
        "\n",
        "y = []\n",
        "\n",
        "for item in t:\n",
        "  if str(item) != 'nan':\n",
        "    tt = item.split(',')\n",
        "    y = y + tt\n",
        "\n",
        "unique_tags = list(set(y))\n",
        "\n",
        "s = vendors['V_vendor_tag_name'].isnull()==True\n",
        "vendors.loc[s, 'V_vendor_tag_name'] = 'no_tag'\n",
        "\n",
        "vendors['V_open_time'], vendors['V_close_time'] = parse_opening_v(vendors['V_OpeningTime'])"
      ],
      "execution_count": null,
      "outputs": []
    },
    {
      "cell_type": "code",
      "metadata": {
        "id": "EVyNVgQ_0a2j",
        "colab_type": "code",
        "colab": {}
      },
      "source": [
        "# Deleting columns 'V_sunday_from_time1' and all similar,\n",
        "# don't know exactly what to do with it\n",
        "\n",
        "cols_to_keep = ['vendor_id', 'V_authentication_id', 'V_latitude', 'V_longitude',\n",
        "       'V_vendor_category_en', 'V_vendor_category_id', 'V_delivery_charge',\n",
        "       'V_serving_distance', 'V_is_open', 'V_OpeningTime', 'V_OpeningTime2',\n",
        "       'V_prepration_time', 'V_commission', 'V_is_akeed_delivering',\n",
        "       'V_discount_percentage', 'V_status', 'V_verified', 'V_rank',\n",
        "       'V_language', 'V_vendor_rating', 'V_primary_tags', 'V_open_close_flags',\n",
        "       'V_vendor_tag', 'V_vendor_tag_name', 'V_one_click_vendor',\n",
        "       'V_country_id', 'V_city_id', 'V_created_at', 'V_updated_at',\n",
        "       'V_device_type', 'V_display_orders', 'V_open_time', 'V_close_time']\n",
        "\n",
        "\n",
        "vendors = vendors[cols_to_keep]"
      ],
      "execution_count": null,
      "outputs": []
    },
    {
      "cell_type": "code",
      "metadata": {
        "id": "oez344eCwlDb",
        "colab_type": "code",
        "colab": {}
      },
      "source": [
        "# Parsing 'vendor_tag_name'\n",
        "cnt = -1\n",
        "\n",
        "for item in unique_tags:\n",
        "  cnt += 1\n",
        "  s = vendors['V_vendor_tag_name'].str.contains(item)\n",
        "  curr_col = 'V_tag_' + str(cnt)\n",
        "  vendors.loc[s, curr_col] = 1\n",
        "  s = vendors[curr_col].isnull()==True\n",
        "  vendors.loc[s, curr_col] = 0\n",
        "\n",
        "cols_tags = ['V_tag_' + str(item) for item in range(cnt+1)]"
      ],
      "execution_count": null,
      "outputs": []
    },
    {
      "cell_type": "code",
      "metadata": {
        "id": "mmI3xrnb_iTo",
        "colab_type": "code",
        "colab": {}
      },
      "source": [
        "tags = vendors[cols_tags]"
      ],
      "execution_count": null,
      "outputs": []
    },
    {
      "cell_type": "code",
      "metadata": {
        "id": "-DABcbSCY5Ij",
        "colab_type": "code",
        "colab": {}
      },
      "source": [
        "# Performing PCA to reduce the number of columns;\n",
        "# Applied to 'vendor_tag_name'\n",
        "\n",
        "pca = PCA(n_components=n_comp, svd_solver='full', random_state=rs)\n",
        "svd_tags = pd.DataFrame(pca.fit_transform(tags))\n",
        "\n",
        "svd_tags_cols = ['V_svd_tag_' + str(item) for item in range(0, n_comp)]\n",
        "svd_tags.columns = svd_tags_cols"
      ],
      "execution_count": null,
      "outputs": []
    },
    {
      "cell_type": "code",
      "metadata": {
        "id": "YYFbRMIIZJv4",
        "colab_type": "code",
        "colab": {}
      },
      "source": [
        "vendors.drop(cols_tags, axis=1, inplace=True)\n",
        "\n",
        "vendors = pd.concat([vendors, svd_tags], axis=1)"
      ],
      "execution_count": null,
      "outputs": []
    },
    {
      "cell_type": "code",
      "metadata": {
        "id": "azJK1WnP_vVI",
        "colab_type": "code",
        "colab": {}
      },
      "source": [
        "del tags"
      ],
      "execution_count": null,
      "outputs": []
    },
    {
      "cell_type": "code",
      "metadata": {
        "id": "x9Tu8Nh0dREB",
        "colab_type": "code",
        "colab": {}
      },
      "source": [
        "train_customers['C_sample'] = 1\n",
        "\n",
        "test_customers['C_sample'] = 2\n",
        "\n",
        "customers = train_customers.append(test_customers, ignore_index=True)\n"
      ],
      "execution_count": null,
      "outputs": []
    },
    {
      "cell_type": "code",
      "metadata": {
        "id": "cZ2eryQvJCTK",
        "colab_type": "code",
        "colab": {}
      },
      "source": [
        "def clean_text(text):\n",
        "    # lowercase\n",
        "    text = text.lower()\n",
        "\n",
        "    # Substituting line breaks to spaces\n",
        "    text = re.sub(\"^\\s+|\\n|\\r|\\s+$\", ' ', text)\n",
        "    \n",
        "    # Deleting numbers\n",
        "    text = re.sub(r'\\d+', '', text)\n",
        "    \n",
        "    # Substituting punctuation (then deleting it)\n",
        "    text = re.sub(r'[^\\w\\s]', ' ', text)\n",
        "    \n",
        "    # Deleting extra spaces\n",
        "    text = text.strip()\n",
        "    \n",
        "    return text\n",
        "\n",
        "\n",
        "def process_gender(s):\n",
        "\n",
        "  \n",
        "  s=clean_text(str(s))\n",
        "\n",
        "  if 'female' in s:\n",
        "    res=1\n",
        "  elif 'male' in s:\n",
        "    res=2\n",
        "  else:\n",
        "    res=99\n",
        "  return res\n",
        "\n",
        "process_gender_v = np.vectorize(process_gender)\n",
        "\n",
        "customers['C_gender_coded'] = process_gender_v(customers['C_gender'])"
      ],
      "execution_count": null,
      "outputs": []
    },
    {
      "cell_type": "code",
      "metadata": {
        "id": "OVlY-fuoheKr",
        "colab_type": "code",
        "colab": {}
      },
      "source": [
        "customers['C_age_group'] = apply_age_group_v(customers['C_dob'])"
      ],
      "execution_count": null,
      "outputs": []
    },
    {
      "cell_type": "code",
      "metadata": {
        "id": "zgvfvzKcF8pW",
        "colab_type": "code",
        "colab": {}
      },
      "source": [
        "customers['C_created_at'] = pd.to_datetime(customers['C_created_at'])\n",
        "m = customers['C_created_at'].max()\n",
        "\n",
        "customers['C_account_diff'] = account_days_v(customers['C_created_at'], m)\n",
        "\n",
        "customers['C_account_diff'] = customers['C_account_diff']/np.timedelta64(1,'D')"
      ],
      "execution_count": null,
      "outputs": []
    },
    {
      "cell_type": "code",
      "metadata": {
        "id": "DC6mS6P6sNKv",
        "colab_type": "code",
        "colab": {}
      },
      "source": [
        "locations = train_locations.append(test_locations, ignore_index=True)"
      ],
      "execution_count": null,
      "outputs": []
    },
    {
      "cell_type": "code",
      "metadata": {
        "id": "kxf3LPCGqhEe",
        "colab_type": "code",
        "colab": {}
      },
      "source": [
        "# Lists of columns to use in the gradient boosting model\n",
        "cols_to_encode = ['L_location_type',\n",
        "                  'V_vendor_category_en', 'V_vendor_category_id',\n",
        "                  'C_gender_coded', 'C_age_group', 'V_serving_distance',\n",
        "                  'V_delivery_charge', 'V_rank', 'V_language', 'C_verified', 'V_commission', 'V_status',\n",
        "                  'V_open_time', 'V_close_time', 'vendor_id_x']\n",
        "\n",
        "cols_float = ['V_prepration_time',\n",
        "              'V_vendor_rating', 'V_discount_percentage', 'C_account_diff'] + svd_tags_cols\n",
        "\n",
        "cols_tmp = ['L_latitude', 'L_longitude', 'V_latitude', 'V_longitude']\n",
        "\n",
        "cols_labels = ['CID X LOC_NUM X VENDOR', 'target', 'customer_id', 'vendor_id', 'order_id', 'location_number', 'C_sample']\n",
        "\n",
        "cols_keep = cols_to_encode + cols_float + cols_tmp + cols_labels + q"
      ],
      "execution_count": null,
      "outputs": []
    },
    {
      "cell_type": "code",
      "metadata": {
        "id": "wC5cRlaAq8Ca",
        "colab_type": "code",
        "colab": {}
      },
      "source": [
        "cols_to_delete = set(list(customers.columns)) - set(cols_keep)\n",
        "customers.drop(cols_to_delete, axis=1, inplace=True)"
      ],
      "execution_count": null,
      "outputs": []
    },
    {
      "cell_type": "code",
      "metadata": {
        "id": "2M-55XZ3rplS",
        "colab_type": "code",
        "colab": {}
      },
      "source": [
        "cols_to_delete = set(list(orders.columns)) - set(cols_keep)\n",
        "orders.drop(cols_to_delete, axis=1, inplace=True)"
      ],
      "execution_count": null,
      "outputs": []
    },
    {
      "cell_type": "code",
      "metadata": {
        "id": "01B7w1o9rxMC",
        "colab_type": "code",
        "colab": {}
      },
      "source": [
        "cols_to_delete = set(list(vendors.columns)) - set(cols_keep)\n",
        "vendors.drop(cols_to_delete, axis=1, inplace=True)"
      ],
      "execution_count": null,
      "outputs": []
    },
    {
      "cell_type": "code",
      "metadata": {
        "id": "cXyhqq0sgBCd",
        "colab_type": "code",
        "colab": {}
      },
      "source": [
        "# Merges of the tables start\n",
        "\n",
        "locations_customers = locations.merge(customers, on='customer_id', how='inner')"
      ],
      "execution_count": null,
      "outputs": []
    },
    {
      "cell_type": "code",
      "metadata": {
        "id": "gLbSf9qAd68W",
        "colab_type": "code",
        "colab": {}
      },
      "source": [
        "locations_customers['key1'] = 0\n",
        "vendors['key1'] = 0"
      ],
      "execution_count": null,
      "outputs": []
    },
    {
      "cell_type": "code",
      "metadata": {
        "id": "HIYPyjLFDgCh",
        "colab_type": "code",
        "colab": {}
      },
      "source": [
        "locations_customers_vendors = locations_customers.merge(vendors, how='inner', on='key1')"
      ],
      "execution_count": null,
      "outputs": []
    },
    {
      "cell_type": "code",
      "metadata": {
        "id": "1RHUpLB9E1x0",
        "colab_type": "code",
        "colab": {}
      },
      "source": [
        "locations_customers_vendors['CID X LOC_NUM X VENDOR'] = locations_customers_vendors['customer_id'] + ' X ' + locations_customers_vendors['location_number'].astype(str) + ' X ' +  locations_customers_vendors['vendor_id'].astype(str)"
      ],
      "execution_count": null,
      "outputs": []
    },
    {
      "cell_type": "code",
      "metadata": {
        "id": "nNqDHUKuF9_V",
        "colab_type": "code",
        "colab": {}
      },
      "source": [
        "orders['target'] = 1"
      ],
      "execution_count": null,
      "outputs": []
    },
    {
      "cell_type": "code",
      "metadata": {
        "id": "u5JYRKOFGPv7",
        "colab_type": "code",
        "colab": {}
      },
      "source": [
        "locations_customers_vendors_orders = locations_customers_vendors.merge(orders, how='left', on='CID X LOC_NUM X VENDOR')"
      ],
      "execution_count": null,
      "outputs": []
    },
    {
      "cell_type": "code",
      "metadata": {
        "id": "2OKFGZvoXMMM",
        "colab_type": "code",
        "colab": {}
      },
      "source": [
        "for item in q:\n",
        "  locations_customers_vendors_orders[item] = locations_customers_vendors_orders[item].fillna(locations_customers_vendors_orders.groupby(['vendor_id_x'])[item].transform('mean'))\n",
        "  locations_customers_vendors_orders[item] = locations_customers_vendors_orders.groupby(['vendor_id_x'])[item].transform('mean')\n"
      ],
      "execution_count": null,
      "outputs": []
    },
    {
      "cell_type": "code",
      "metadata": {
        "id": "f8ta-rC5RFiR",
        "colab_type": "code",
        "colab": {}
      },
      "source": [
        "s = locations_customers_vendors_orders['target'].isnull()==True\n",
        "locations_customers_vendors_orders.loc[s, 'target'] = 0"
      ],
      "execution_count": null,
      "outputs": []
    },
    {
      "cell_type": "code",
      "metadata": {
        "id": "fWtCCoZadumx",
        "colab_type": "code",
        "colab": {}
      },
      "source": [
        "locations_customers_vendors_orders['distance1'] = get_distance_v(locations_customers_vendors_orders['L_latitude'],\n",
        "                                                             locations_customers_vendors_orders['L_longitude'],\n",
        "                                                             locations_customers_vendors_orders['V_latitude'],\n",
        "                                                             locations_customers_vendors_orders['V_longitude'])"
      ],
      "execution_count": null,
      "outputs": []
    },
    {
      "cell_type": "code",
      "metadata": {
        "id": "Fmr6jCYDQt00",
        "colab_type": "code",
        "colab": {}
      },
      "source": [
        "\n",
        "\n",
        "locations_customers_vendors_orders['distance2'] = dummy_manhattan_distance_v(locations_customers_vendors_orders['L_latitude'],\n",
        "                                                             locations_customers_vendors_orders['L_longitude'],\n",
        "                                                             locations_customers_vendors_orders['V_latitude'],\n",
        "                                                             locations_customers_vendors_orders['V_longitude'])\n",
        "\n",
        "\n"
      ],
      "execution_count": null,
      "outputs": []
    },
    {
      "cell_type": "code",
      "metadata": {
        "id": "0S9LfdcVoktd",
        "colab_type": "code",
        "colab": {}
      },
      "source": [
        "locations_customers_vendors_orders['distance3'] = haversine_array_v(locations_customers_vendors_orders['L_latitude'],\n",
        "                                                             locations_customers_vendors_orders['L_longitude'],\n",
        "                                                             locations_customers_vendors_orders['V_latitude'],\n",
        "                                                             locations_customers_vendors_orders['V_longitude'])"
      ],
      "execution_count": null,
      "outputs": []
    },
    {
      "cell_type": "code",
      "metadata": {
        "id": "o9PPgrQ40eqL",
        "colab_type": "code",
        "colab": {}
      },
      "source": [
        "\n",
        "locations_customers_vendors_orders['distance4'] = bearing_array_v(locations_customers_vendors_orders['L_latitude'],\n",
        "                                                             locations_customers_vendors_orders['L_longitude'],\n",
        "                                                             locations_customers_vendors_orders['V_latitude'],\n",
        "                                                             locations_customers_vendors_orders['V_longitude'])"
      ],
      "execution_count": null,
      "outputs": []
    },
    {
      "cell_type": "code",
      "metadata": {
        "id": "tpGjVt3z0-tp",
        "colab_type": "code",
        "colab": {}
      },
      "source": [
        "locations_customers_vendors_orders.loc[:, 'center_latitude'] = (locations_customers_vendors_orders['L_latitude'].values + locations_customers_vendors_orders['V_latitude'].values) / 2\n",
        "locations_customers_vendors_orders.loc[:, 'center_longitude'] = (locations_customers_vendors_orders['L_longitude'].values + locations_customers_vendors_orders['V_longitude'].values) / 2"
      ],
      "execution_count": null,
      "outputs": []
    },
    {
      "cell_type": "code",
      "metadata": {
        "id": "BKqAFEyFeJdn",
        "colab_type": "code",
        "colab": {}
      },
      "source": [
        "for item in cols_to_encode:\n",
        "  locations_customers_vendors_orders[item] = locations_customers_vendors_orders[item].astype('category')\n",
        "  locations_customers_vendors_orders[item] = locations_customers_vendors_orders[item].cat.codes\n",
        "  locations_customers_vendors_orders[item] = locations_customers_vendors_orders[item].astype('category')\n",
        "\n"
      ],
      "execution_count": null,
      "outputs": []
    },
    {
      "cell_type": "code",
      "metadata": {
        "id": "9x42JwnffGXq",
        "colab_type": "code",
        "colab": {}
      },
      "source": [
        "cols_float = cols_float + ['distance1', 'distance2', 'distance3', 'distance4', 'center_latitude', 'center_longitude'] + q\n",
        "\n",
        "cols_X = cols_to_encode + cols_float"
      ],
      "execution_count": null,
      "outputs": []
    },
    {
      "cell_type": "code",
      "metadata": {
        "id": "NnElMSjfhd9x",
        "colab_type": "code",
        "colab": {
          "base_uri": "https://localhost:8080/",
          "height": 34
        },
        "outputId": "74757e7e-7dfc-440f-bc70-8c6ba065a4d4"
      },
      "source": [
        "sample_train = locations_customers_vendors_orders[locations_customers_vendors_orders['C_sample']==1]\n",
        "sample_test = locations_customers_vendors_orders[locations_customers_vendors_orders['C_sample']==2]\n",
        "\n",
        "\n",
        "del locations_customers_vendors_orders\n",
        "gc.collect()\n"
      ],
      "execution_count": null,
      "outputs": [
        {
          "output_type": "execute_result",
          "data": {
            "text/plain": [
              "0"
            ]
          },
          "metadata": {
            "tags": []
          },
          "execution_count": 45
        }
      ]
    },
    {
      "cell_type": "code",
      "metadata": {
        "id": "pdAkI4E2CGdZ",
        "colab_type": "code",
        "colab": {}
      },
      "source": [
        "# Creating a delayed sample, deleting it from 'sample_train'\n",
        "if use_delayed:\n",
        "  w = sample_train.sample(frac=frac_size, random_state=rs) \n",
        "  w_index = w.index\n",
        "  sample_train = sample_train.drop(w_index, axis=0)"
      ],
      "execution_count": null,
      "outputs": []
    },
    {
      "cell_type": "code",
      "metadata": {
        "id": "qOzfeCymIFlN",
        "colab_type": "code",
        "colab": {}
      },
      "source": [
        "X = sample_train[cols_X]"
      ],
      "execution_count": null,
      "outputs": []
    },
    {
      "cell_type": "code",
      "metadata": {
        "id": "LhTJb3TgImzq",
        "colab_type": "code",
        "colab": {}
      },
      "source": [
        "y = sample_train['target']"
      ],
      "execution_count": null,
      "outputs": []
    },
    {
      "cell_type": "code",
      "metadata": {
        "id": "TMFvuzlsIRK4",
        "colab_type": "code",
        "colab": {
          "base_uri": "https://localhost:8080/",
          "height": 119
        },
        "outputId": "c7e093e8-35ac-4e27-9ae3-250c72293b83"
      },
      "source": [
        "# Training the LightGBM classifier\n",
        "\n",
        "X_train, X_test, y_train, y_test = train_test_split(X, y, test_size=0.2, random_state=rs)\n",
        "\n",
        "print(datetime.datetime.now())\n",
        "\n",
        "a, b, lgbm_model = lgbm_val(X_train, X_test, y_train, y_test, cols_to_encode)\n",
        "\n",
        "print(datetime.datetime.now())\n"
      ],
      "execution_count": null,
      "outputs": [
        {
          "output_type": "stream",
          "text": [
            "2020-08-03 20:35:12.657569\n"
          ],
          "name": "stdout"
        },
        {
          "output_type": "stream",
          "text": [
            "/usr/local/lib/python3.6/dist-packages/lightgbm/basic.py:1205: UserWarning: Using categorical_feature in Dataset.\n",
            "  warnings.warn('Using categorical_feature in Dataset.')\n",
            "/usr/local/lib/python3.6/dist-packages/lightgbm/basic.py:762: UserWarning: categorical_feature in param dict is overridden.\n",
            "  warnings.warn('categorical_feature in param dict is overridden.')\n"
          ],
          "name": "stderr"
        },
        {
          "output_type": "stream",
          "text": [
            "2020-08-03 21:35:33.152592\n"
          ],
          "name": "stdout"
        }
      ]
    },
    {
      "cell_type": "code",
      "metadata": {
        "id": "Cjdu1d0F3F0x",
        "colab_type": "code",
        "colab": {}
      },
      "source": [
        "if use_delayed:\n",
        "  w_true = np.array(w['target'])\n",
        "  w = w[cols_X]"
      ],
      "execution_count": null,
      "outputs": []
    },
    {
      "cell_type": "code",
      "metadata": {
        "id": "Ub-1DjROFwyH",
        "colab_type": "code",
        "colab": {}
      },
      "source": [
        "# Evaluating the F1 score at the delayed sample\n",
        "if use_delayed:\n",
        "  t = range(84, 93, 1)\n",
        "\n",
        "  t = [item/100 for item in t]\n",
        "\n",
        "\n",
        "  for elem in t:\n",
        "    w_predictions = lgbm_model.predict(w)\n",
        "\n",
        "    w_predictions = np.array([1 if item>=elem else 0 for item in w_predictions])\n",
        "    print(str(elem) + '...' + str(f1_score(w_true, w_predictions)))"
      ],
      "execution_count": null,
      "outputs": []
    },
    {
      "cell_type": "code",
      "metadata": {
        "id": "w9eyFfPfWxBu",
        "colab_type": "code",
        "colab": {
          "base_uri": "https://localhost:8080/",
          "height": 51
        },
        "outputId": "2a603504-a92f-4417-b4b9-4c98cda441a4"
      },
      "source": [
        "# Saving the results\n",
        "cutoff_true_false = 0.88\n",
        "\n",
        "if True:\n",
        "\n",
        "  labels = sample_test['CID X LOC_NUM X VENDOR']\n",
        "\n",
        "\n",
        "  sample_test = sample_test[cols_X]\n",
        "\n",
        "  predictions = lgbm_model.predict(sample_test)\n",
        "\n",
        "  predictions = [1 if item>=cutoff_true_false else 0 for item in predictions]\n",
        "  \n",
        "  predicted = pd.DataFrame(labels)\n",
        "\n",
        "  predicted[rr] = predictions\n",
        "\n",
        "  SampleSubmission.drop(['target'], axis=1, inplace=True)\n",
        "\n",
        "  SampleSubmission = SampleSubmission.merge(predicted, on='CID X LOC_NUM X VENDOR', how='left')\n",
        "\n",
        "  s = SampleSubmission[rr].isnull()==True\n",
        "\n",
        "  SampleSubmission.loc[s, rr] = 0\n",
        "\n",
        "  SampleSubmission[rr] = SampleSubmission[rr].astype('int')\n",
        "\n",
        "  SampleSubmission.to_csv(pth+submission_name, index=False, sep=',')\n",
        "\n",
        "  print('Sum of predictions:')\n",
        "  sum_of_predictions = predicted[rr].sum()\n",
        "  print(str(sum_of_predictions))"
      ],
      "execution_count": null,
      "outputs": [
        {
          "output_type": "stream",
          "text": [
            "Sum of predictions:\n",
            "37922\n"
          ],
          "name": "stdout"
        }
      ]
    }
  ]
}